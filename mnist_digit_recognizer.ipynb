{
 "cells": [
  {
   "cell_type": "code",
   "execution_count": 43,
   "metadata": {
    "_cell_guid": "b1076dfc-b9ad-4769-8c92-a6c4dae69d19",
    "_uuid": "8f2839f25d086af736a60e9eeb907d3b93b6e0e5"
   },
   "outputs": [],
   "source": [
    "import numpy as np\n",
    "import pandas as pd\n",
    "from matplotlib import pyplot as plt\n"
   ]
  },
  {
   "cell_type": "code",
   "execution_count": 44,
   "metadata": {
    "_cell_guid": "79c7e3d0-c299-4dcb-8224-4455121ee9b0",
    "_uuid": "d629ff2d2480ee46fbb7e2d37f6b5fab8052498a"
   },
   "outputs": [],
   "source": [
    "df  = pd.read_csv('C:/Users/JAINY/Desktop/train.csv')\n",
    "df_test = pd.read_csv('C:/Users/JAINY/Desktop/test.csv')"
   ]
  },
  {
   "cell_type": "code",
   "execution_count": 45,
   "metadata": {},
   "outputs": [
    {
     "name": "stdout",
     "output_type": "stream",
     "text": [
      "(28000, 784)\n"
     ]
    }
   ],
   "source": [
    "df_to_np = df.values\n",
    "x_test = df_test.values\n",
    "x_train = df_to_np[:,1:]\n",
    "y_train = df_to_np[:,0]\n",
    "print(x_test.shape)"
   ]
  },
  {
   "cell_type": "code",
   "execution_count": 46,
   "metadata": {},
   "outputs": [
    {
     "name": "stdout",
     "output_type": "stream",
     "text": [
      "(42000, 784)\n",
      "(42000,)\n"
     ]
    }
   ],
   "source": [
    "print(x_train.shape)\n",
    "print(y_train.shape)"
   ]
  },
  {
   "cell_type": "code",
   "execution_count": 54,
   "metadata": {},
   "outputs": [
    {
     "data": {
      "image/png": "[encoded data removed]",
      "text/plain": [
       "<Figure size 432x288 with 1 Axes>"
      ]
     },
     "metadata": {
      "needs_background": "light"
     },
     "output_type": "display_data"
    },
    {
     "data": {
      "image/png": "[encoded data removed]",
      "text/plain": [
       "<Figure size 432x288 with 1 Axes>"
      ]
     },
     "metadata": {
      "needs_background": "light"
     },
     "output_type": "display_data"
    },
    {
     "data": {
      "image/png": "[encoded data removed]",
      "text/plain": [
       "<Figure size 432x288 with 1 Axes>"
      ]
     },
     "metadata": {
      "needs_background": "light"
     },
     "output_type": "display_data"
    },
    {
     "data": {
      "image/png": "[encoded data removed]",
      "text/plain": [
       "<Figure size 432x288 with 1 Axes>"
      ]
     },
     "metadata": {
      "needs_background": "light"
     },
     "output_type": "display_data"
    },
    {
     "data": {
      "image/png": "[encoded data removed]",
      "text/plain": [
       "<Figure size 432x288 with 1 Axes>"
      ]
     },
     "metadata": {
      "needs_background": "light"
     },
     "output_type": "display_data"
    }
   ],
   "source": [
    "for i in range(5):\n",
    "    plt.imshow(x_train[i].reshape(28,28),cmap='gray')\n",
    "    plt.axis('off')\n",
    "    plt.show()"
   ]
  },
  {
   "cell_type": "code",
   "execution_count": 6,
   "metadata": {},
   "outputs": [
    {
     "name": "stdout",
     "output_type": "stream",
     "text": [
      "(42000, 1)\n"
     ]
    }
   ],
   "source": [
    "y_train = y_train.reshape(-1,1)\n",
    "print(y_train.shape)"
   ]
  },
  {
   "cell_type": "code",
   "execution_count": 7,
   "metadata": {},
   "outputs": [
    {
     "name": "stderr",
     "output_type": "stream",
     "text": [
      "Using TensorFlow backend.\n",
      "C:\\Users\\JAINY\\AppData\\Local\\Programs\\Python\\Python36\\lib\\site-packages\\tensorflow\\python\\framework\\dtypes.py:516: FutureWarning: Passing (type, 1) or '1type' as a synonym of type is deprecated; in a future version of numpy, it will be understood as (type, (1,)) / '(1,)type'.\n",
      "  _np_qint8 = np.dtype([(\"qint8\", np.int8, 1)])\n",
      "C:\\Users\\JAINY\\AppData\\Local\\Programs\\Python\\Python36\\lib\\site-packages\\tensorflow\\python\\framework\\dtypes.py:517: FutureWarning: Passing (type, 1) or '1type' as a synonym of type is deprecated; in a future version of numpy, it will be understood as (type, (1,)) / '(1,)type'.\n",
      "  _np_quint8 = np.dtype([(\"quint8\", np.uint8, 1)])\n",
      "C:\\Users\\JAINY\\AppData\\Local\\Programs\\Python\\Python36\\lib\\site-packages\\tensorflow\\python\\framework\\dtypes.py:518: FutureWarning: Passing (type, 1) or '1type' as a synonym of type is deprecated; in a future version of numpy, it will be understood as (type, (1,)) / '(1,)type'.\n",
      "  _np_qint16 = np.dtype([(\"qint16\", np.int16, 1)])\n",
      "C:\\Users\\JAINY\\AppData\\Local\\Programs\\Python\\Python36\\lib\\site-packages\\tensorflow\\python\\framework\\dtypes.py:519: FutureWarning: Passing (type, 1) or '1type' as a synonym of type is deprecated; in a future version of numpy, it will be understood as (type, (1,)) / '(1,)type'.\n",
      "  _np_quint16 = np.dtype([(\"quint16\", np.uint16, 1)])\n",
      "C:\\Users\\JAINY\\AppData\\Local\\Programs\\Python\\Python36\\lib\\site-packages\\tensorflow\\python\\framework\\dtypes.py:520: FutureWarning: Passing (type, 1) or '1type' as a synonym of type is deprecated; in a future version of numpy, it will be understood as (type, (1,)) / '(1,)type'.\n",
      "  _np_qint32 = np.dtype([(\"qint32\", np.int32, 1)])\n",
      "C:\\Users\\JAINY\\AppData\\Local\\Programs\\Python\\Python36\\lib\\site-packages\\tensorflow\\python\\framework\\dtypes.py:525: FutureWarning: Passing (type, 1) or '1type' as a synonym of type is deprecated; in a future version of numpy, it will be understood as (type, (1,)) / '(1,)type'.\n",
      "  np_resource = np.dtype([(\"resource\", np.ubyte, 1)])\n",
      "C:\\Users\\JAINY\\AppData\\Local\\Programs\\Python\\Python36\\lib\\site-packages\\tensorboard\\compat\\tensorflow_stub\\dtypes.py:541: FutureWarning: Passing (type, 1) or '1type' as a synonym of type is deprecated; in a future version of numpy, it will be understood as (type, (1,)) / '(1,)type'.\n",
      "  _np_qint8 = np.dtype([(\"qint8\", np.int8, 1)])\n",
      "C:\\Users\\JAINY\\AppData\\Local\\Programs\\Python\\Python36\\lib\\site-packages\\tensorboard\\compat\\tensorflow_stub\\dtypes.py:542: FutureWarning: Passing (type, 1) or '1type' as a synonym of type is deprecated; in a future version of numpy, it will be understood as (type, (1,)) / '(1,)type'.\n",
      "  _np_quint8 = np.dtype([(\"quint8\", np.uint8, 1)])\n",
      "C:\\Users\\JAINY\\AppData\\Local\\Programs\\Python\\Python36\\lib\\site-packages\\tensorboard\\compat\\tensorflow_stub\\dtypes.py:543: FutureWarning: Passing (type, 1) or '1type' as a synonym of type is deprecated; in a future version of numpy, it will be understood as (type, (1,)) / '(1,)type'.\n",
      "  _np_qint16 = np.dtype([(\"qint16\", np.int16, 1)])\n",
      "C:\\Users\\JAINY\\AppData\\Local\\Programs\\Python\\Python36\\lib\\site-packages\\tensorboard\\compat\\tensorflow_stub\\dtypes.py:544: FutureWarning: Passing (type, 1) or '1type' as a synonym of type is deprecated; in a future version of numpy, it will be understood as (type, (1,)) / '(1,)type'.\n",
      "  _np_quint16 = np.dtype([(\"quint16\", np.uint16, 1)])\n",
      "C:\\Users\\JAINY\\AppData\\Local\\Programs\\Python\\Python36\\lib\\site-packages\\tensorboard\\compat\\tensorflow_stub\\dtypes.py:545: FutureWarning: Passing (type, 1) or '1type' as a synonym of type is deprecated; in a future version of numpy, it will be understood as (type, (1,)) / '(1,)type'.\n",
      "  _np_qint32 = np.dtype([(\"qint32\", np.int32, 1)])\n",
      "C:\\Users\\JAINY\\AppData\\Local\\Programs\\Python\\Python36\\lib\\site-packages\\tensorboard\\compat\\tensorflow_stub\\dtypes.py:550: FutureWarning: Passing (type, 1) or '1type' as a synonym of type is deprecated; in a future version of numpy, it will be understood as (type, (1,)) / '(1,)type'.\n",
      "  np_resource = np.dtype([(\"resource\", np.ubyte, 1)])\n",
      "WARNING: Logging before flag parsing goes to stderr.\n",
      "W0806 06:28:37.868134  6356 deprecation_wrapper.py:119] From C:\\Users\\JAINY\\AppData\\Local\\Programs\\Python\\Python36\\lib\\site-packages\\keras\\backend\\tensorflow_backend.py:74: The name tf.get_default_graph is deprecated. Please use tf.compat.v1.get_default_graph instead.\n",
      "\n"
     ]
    }
   ],
   "source": [
    "from keras.layers import *\n",
    "\n",
    "from keras.models import Sequential\n",
    "import keras\n",
    "import keras.layers as layers\n",
    "from keras.models import Sequential\n",
    "from keras.preprocessing.image import ImageDataGenerator\n",
    "from keras.utils.np_utils import to_categorical\n",
    "from keras.callbacks import TensorBoard\n",
    "\n",
    "\n",
    "model = Sequential()"
   ]
  },
  {
   "cell_type": "code",
   "execution_count": 8,
   "metadata": {},
   "outputs": [
    {
     "name": "stdout",
     "output_type": "stream",
     "text": [
      "(42000, 32, 32, 1) (42000, 10)\n",
      "(28000, 32, 32, 1)\n"
     ]
    }
   ],
   "source": [
    "# image reshaping\n",
    "def preprocess_data(X,Y):\n",
    "    X = X.reshape((-1,28,28,1))\n",
    "    X = X/255.0\n",
    "    Y = to_categorical(Y)\n",
    "    return X,Y\n",
    "\n",
    "def preprocess_testdata(X):\n",
    "    X = X.reshape((-1,28,28,1))\n",
    "    X = X/255.0\n",
    "   # Y = to_categorical(Y)\n",
    "    return X\n",
    "\n",
    "\n",
    "\n",
    "XTrain,YTrain = preprocess_data(x_train,y_train)\n",
    "# padding on train data\n",
    "XTrain      = np.pad(XTrain, ((0,0),(2,2),(2,2),(0,0)), 'constant')\n",
    "\n",
    "print(XTrain.shape,YTrain.shape)\n",
    "\n",
    "XTest = preprocess_testdata(x_test)\n",
    "# padding in test data\n",
    "XTest = np.pad(XTest, ((0,0),(2,2),(2,2),(0,0)), 'constant')\n",
    "print(XTest.shape)\n",
    "\n"
   ]
  },
  {
   "cell_type": "code",
   "execution_count": 9,
   "metadata": {},
   "outputs": [
    {
     "name": "stderr",
     "output_type": "stream",
     "text": [
      "W0806 06:28:39.325104  6356 deprecation_wrapper.py:119] From C:\\Users\\JAINY\\AppData\\Local\\Programs\\Python\\Python36\\lib\\site-packages\\keras\\backend\\tensorflow_backend.py:517: The name tf.placeholder is deprecated. Please use tf.compat.v1.placeholder instead.\n",
      "\n",
      "W0806 06:28:39.332729  6356 deprecation_wrapper.py:119] From C:\\Users\\JAINY\\AppData\\Local\\Programs\\Python\\Python36\\lib\\site-packages\\keras\\backend\\tensorflow_backend.py:4138: The name tf.random_uniform is deprecated. Please use tf.random.uniform instead.\n",
      "\n",
      "W0806 06:28:39.364997  6356 deprecation_wrapper.py:119] From C:\\Users\\JAINY\\AppData\\Local\\Programs\\Python\\Python36\\lib\\site-packages\\keras\\backend\\tensorflow_backend.py:3976: The name tf.nn.max_pool is deprecated. Please use tf.nn.max_pool2d instead.\n",
      "\n",
      "W0806 06:28:39.393128  6356 deprecation_wrapper.py:119] From C:\\Users\\JAINY\\AppData\\Local\\Programs\\Python\\Python36\\lib\\site-packages\\keras\\backend\\tensorflow_backend.py:174: The name tf.get_default_session is deprecated. Please use tf.compat.v1.get_default_session instead.\n",
      "\n",
      "W0806 06:28:39.395369  6356 deprecation_wrapper.py:119] From C:\\Users\\JAINY\\AppData\\Local\\Programs\\Python\\Python36\\lib\\site-packages\\keras\\backend\\tensorflow_backend.py:181: The name tf.ConfigProto is deprecated. Please use tf.compat.v1.ConfigProto instead.\n",
      "\n",
      "W0806 06:28:39.449952  6356 deprecation_wrapper.py:119] From C:\\Users\\JAINY\\AppData\\Local\\Programs\\Python\\Python36\\lib\\site-packages\\keras\\backend\\tensorflow_backend.py:1834: The name tf.nn.fused_batch_norm is deprecated. Please use tf.compat.v1.nn.fused_batch_norm instead.\n",
      "\n",
      "W0806 06:28:39.583113  6356 deprecation.py:506] From C:\\Users\\JAINY\\AppData\\Local\\Programs\\Python\\Python36\\lib\\site-packages\\keras\\backend\\tensorflow_backend.py:3445: calling dropout (from tensorflow.python.ops.nn_ops) with keep_prob is deprecated and will be removed in a future version.\n",
      "Instructions for updating:\n",
      "Please use `rate` instead of `keep_prob`. Rate should be set to `rate = 1 - keep_prob`.\n"
     ]
    }
   ],
   "source": [
    "model.add(Conv2D(32,(3,3),activation='relu',padding='same',input_shape=(32,32,1)))\n",
    "model.add(MaxPool2D((2,2),strides=2))\n",
    "model.add(BatchNormalization())\n",
    "model.add(Dropout(0.4))\n",
    "\n",
    "model.add(Conv2D(64,(3,3),padding='same',activation='relu'))\n",
    "model.add(MaxPool2D((2,2),strides=2))\n",
    "model.add(BatchNormalization())\n",
    "model.add(Dropout(0.4))\n",
    "\n",
    "model.add(Flatten())\n",
    "\n",
    "model.add(layers.Dense(units=128, activation='relu'))\n",
    "model.add(BatchNormalization())\n",
    "model.add(Dropout(0.4))\n",
    "\n",
    "\n",
    "model.add(layers.Dense(units=10, activation = 'softmax'))"
   ]
  },
  {
   "cell_type": "code",
   "execution_count": null,
   "metadata": {},
   "outputs": [],
   "source": []
  },
  {
   "cell_type": "code",
   "execution_count": 10,
   "metadata": {},
   "outputs": [
    {
     "name": "stderr",
     "output_type": "stream",
     "text": [
      "W0806 06:28:40.015147  6356 deprecation_wrapper.py:119] From C:\\Users\\JAINY\\AppData\\Local\\Programs\\Python\\Python36\\lib\\site-packages\\keras\\optimizers.py:790: The name tf.train.Optimizer is deprecated. Please use tf.compat.v1.train.Optimizer instead.\n",
      "\n"
     ]
    }
   ],
   "source": [
    "model.compile(loss='categorical_crossentropy',\n",
    "              optimizer='adam',\n",
    "              metrics=['accuracy'])"
   ]
  },
  {
   "cell_type": "code",
   "execution_count": 11,
   "metadata": {},
   "outputs": [
    {
     "name": "stderr",
     "output_type": "stream",
     "text": [
      "W0806 06:28:40.367264  6356 deprecation.py:323] From C:\\Users\\JAINY\\AppData\\Local\\Programs\\Python\\Python36\\lib\\site-packages\\tensorflow\\python\\ops\\math_grad.py:1250: add_dispatch_support.<locals>.wrapper (from tensorflow.python.ops.array_ops) is deprecated and will be removed in a future version.\n",
      "Instructions for updating:\n",
      "Use tf.where in 2.0, which has the same broadcast rule as np.where\n"
     ]
    },
    {
     "name": "stdout",
     "output_type": "stream",
     "text": [
      "Epoch 1/44\n",
      "42000/42000 [==============================] - 122s 3ms/step - loss: 0.3022 - acc: 0.9035\n",
      "Epoch 2/44\n",
      "42000/42000 [==============================] - 100s 2ms/step - loss: 0.1122 - acc: 0.9650\n",
      "Epoch 3/44\n",
      "42000/42000 [==============================] - 95s 2ms/step - loss: 0.0876 - acc: 0.9728\n",
      "Epoch 4/44\n",
      "42000/42000 [==============================] - 96s 2ms/step - loss: 0.0704 - acc: 0.9777\n",
      "Epoch 5/44\n",
      "42000/42000 [==============================] - 98s 2ms/step - loss: 0.0642 - acc: 0.9793\n",
      "Epoch 6/44\n",
      "42000/42000 [==============================] - 102s 2ms/step - loss: 0.0566 - acc: 0.9825\n",
      "Epoch 7/44\n",
      "42000/42000 [==============================] - 98s 2ms/step - loss: 0.0556 - acc: 0.9820\n",
      "Epoch 8/44\n",
      "42000/42000 [==============================] - 93s 2ms/step - loss: 0.0516 - acc: 0.9837\n",
      "Epoch 9/44\n",
      "42000/42000 [==============================] - 93s 2ms/step - loss: 0.0448 - acc: 0.9854\n",
      "Epoch 10/44\n",
      "42000/42000 [==============================] - 99s 2ms/step - loss: 0.0424 - acc: 0.9869\n",
      "Epoch 11/44\n",
      "42000/42000 [==============================] - 94s 2ms/step - loss: 0.0397 - acc: 0.9866\n",
      "Epoch 12/44\n",
      "42000/42000 [==============================] - 100s 2ms/step - loss: 0.0446 - acc: 0.9858\n",
      "Epoch 13/44\n",
      "42000/42000 [==============================] - 104s 2ms/step - loss: 0.0385 - acc: 0.9875\n",
      "Epoch 14/44\n",
      "42000/42000 [==============================] - 91s 2ms/step - loss: 0.0376 - acc: 0.9878\n",
      "Epoch 15/44\n",
      "42000/42000 [==============================] - 90s 2ms/step - loss: 0.0347 - acc: 0.9877\n",
      "Epoch 16/44\n",
      "42000/42000 [==============================] - 97s 2ms/step - loss: 0.0317 - acc: 0.9901\n",
      "Epoch 17/44\n",
      "42000/42000 [==============================] - 90s 2ms/step - loss: 0.0320 - acc: 0.9890\n",
      "Epoch 18/44\n",
      "42000/42000 [==============================] - 90s 2ms/step - loss: 0.0334 - acc: 0.9887\n",
      "Epoch 19/44\n",
      "42000/42000 [==============================] - 91s 2ms/step - loss: 0.0306 - acc: 0.9905\n",
      "Epoch 20/44\n",
      "42000/42000 [==============================] - 91s 2ms/step - loss: 0.0318 - acc: 0.9896\n",
      "Epoch 21/44\n",
      "42000/42000 [==============================] - 90s 2ms/step - loss: 0.0275 - acc: 0.9910\n",
      "Epoch 22/44\n",
      "42000/42000 [==============================] - 90s 2ms/step - loss: 0.0277 - acc: 0.9908\n",
      "Epoch 23/44\n",
      "42000/42000 [==============================] - 92s 2ms/step - loss: 0.0269 - acc: 0.9913\n",
      "Epoch 24/44\n",
      "42000/42000 [==============================] - 93s 2ms/step - loss: 0.0274 - acc: 0.9912\n",
      "Epoch 25/44\n",
      "42000/42000 [==============================] - 93s 2ms/step - loss: 0.0271 - acc: 0.9906\n",
      "Epoch 26/44\n",
      "42000/42000 [==============================] - 94s 2ms/step - loss: 0.0255 - acc: 0.9918\n",
      "Epoch 27/44\n",
      "42000/42000 [==============================] - 93s 2ms/step - loss: 0.0244 - acc: 0.9918\n",
      "Epoch 28/44\n",
      "42000/42000 [==============================] - 93s 2ms/step - loss: 0.0221 - acc: 0.9927\n",
      "Epoch 29/44\n",
      "42000/42000 [==============================] - 93s 2ms/step - loss: 0.0235 - acc: 0.9918\n",
      "Epoch 30/44\n",
      "42000/42000 [==============================] - 93s 2ms/step - loss: 0.0228 - acc: 0.9920\n",
      "Epoch 31/44\n",
      "42000/42000 [==============================] - 93s 2ms/step - loss: 0.0229 - acc: 0.9922\n",
      "Epoch 32/44\n",
      "42000/42000 [==============================] - 93s 2ms/step - loss: 0.0218 - acc: 0.9925\n",
      "Epoch 33/44\n",
      "42000/42000 [==============================] - 93s 2ms/step - loss: 0.0213 - acc: 0.9926\n",
      "Epoch 34/44\n",
      "42000/42000 [==============================] - 94s 2ms/step - loss: 0.0201 - acc: 0.9935\n",
      "Epoch 35/44\n",
      "42000/42000 [==============================] - 94s 2ms/step - loss: 0.0197 - acc: 0.9934\n",
      "Epoch 36/44\n",
      "42000/42000 [==============================] - 93s 2ms/step - loss: 0.0218 - acc: 0.9924\n",
      "Epoch 37/44\n",
      "42000/42000 [==============================] - 94s 2ms/step - loss: 0.0192 - acc: 0.9935\n",
      "Epoch 38/44\n",
      "42000/42000 [==============================] - 93s 2ms/step - loss: 0.0189 - acc: 0.9939\n",
      "Epoch 39/44\n",
      "42000/42000 [==============================] - 93s 2ms/step - loss: 0.0195 - acc: 0.9936\n",
      "Epoch 40/44\n",
      "42000/42000 [==============================] - 94s 2ms/step - loss: 0.0185 - acc: 0.9934\n",
      "Epoch 41/44\n",
      "42000/42000 [==============================] - 93s 2ms/step - loss: 0.0192 - acc: 0.9933\n",
      "Epoch 42/44\n",
      "42000/42000 [==============================] - 93s 2ms/step - loss: 0.0178 - acc: 0.9943\n",
      "Epoch 43/44\n",
      "42000/42000 [==============================] - 93s 2ms/step - loss: 0.0167 - acc: 0.9945\n",
      "Epoch 44/44\n",
      "42000/42000 [==============================] - 93s 2ms/step - loss: 0.0178 - acc: 0.9941\n"
     ]
    }
   ],
   "source": [
    "his = model.fit(XTrain, YTrain, epochs=44, batch_size=128)"
   ]
  },
  {
   "cell_type": "code",
   "execution_count": 18,
   "metadata": {},
   "outputs": [],
   "source": [
    "results = model.predict_classes(XTest, batch_size=128)"
   ]
  },
  {
   "cell_type": "code",
   "execution_count": 19,
   "metadata": {},
   "outputs": [],
   "source": [
    "#file = np.savetxt('C:/Users/JAINY/Desktop/ans2.csv',results,delimiter=\",\"'w+',header='Id')\n"
   ]
  },
  {
   "cell_type": "code",
   "execution_count": 22,
   "metadata": {},
   "outputs": [],
   "source": []
  },
  {
   "cell_type": "code",
   "execution_count": null,
   "metadata": {},
   "outputs": [],
   "source": []
  },
  {
   "cell_type": "code",
   "execution_count": null,
   "metadata": {},
   "outputs": [],
   "source": []
  },
  {
   "cell_type": "code",
   "execution_count": null,
   "metadata": {},
   "outputs": [],
   "source": []
  }
 ],
 "metadata": {
  "kernelspec": {
   "display_name": "Python3.6Test",
   "language": "python",
   "name": "python3.6test"
  },
  "language_info": {
   "codemirror_mode": {
    "name": "ipython",
    "version": 3
   },
   "file_extension": ".py",
   "mimetype": "text/x-python",
   "name": "python",
   "nbconvert_exporter": "python",
   "pygments_lexer": "ipython3",
   "version": "3.6.7"
  }
 },
 "nbformat": 4,
 "nbformat_minor": 1
}
