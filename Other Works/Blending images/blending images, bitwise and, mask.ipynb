{
 "cells": [
  {
   "cell_type": "code",
   "execution_count": null,
   "metadata": {},
   "outputs": [],
   "source": [
    "import cv2\n",
    "import numpy as np\n",
    "\n",
    "img1 = cv2.imread(r\"C:\\Users\\JAINY\\Downloads\\add-images\\road.jpg\")\n",
    "img2 = cv2.imread(r\"C:\\Users\\JAINY\\Downloads\\add-images\\car.jpg\")\n",
    "\n",
    "img2_gray = cv2.cvtColor(img2, cv2.COLOR_BGR2GRAY)\n",
    "\n",
    "ret, mask = cv2.threshold(img2_gray, 240, 255, cv2.THRESH_BINARY)\n",
    "\n",
    "mask_inv = cv2.bitwise_not(mask)\n",
    "\n",
    "\n",
    "road = cv2.bitwise_and(img1, img1, mask=mask)\n",
    "\n",
    "car = cv2.bitwise_and(img2, img2, mask=mask_inv)\n",
    "\n",
    "result = cv2.add(road, car)\n",
    "\n",
    "cv2.imshow(\"img1\", img1)\n",
    "cv2.imshow(\"img2\", img2)\n",
    "cv2.imshow(\"road background\", road)\n",
    "cv2.imshow(\"car no background\", car)\n",
    "cv2.imshow(\"mask\", mask)\n",
    "cv2.imshow(\"mask inverse\", mask_inv)\n",
    "cv2.imshow(\"result\", result)\n",
    "cv2.waitKey(0)\n",
    "cv2.destroyAllWindows()"
   ]
  },
  {
   "cell_type": "code",
   "execution_count": null,
   "metadata": {},
   "outputs": [],
   "source": []
  }
 ],
 "metadata": {
  "kernelspec": {
   "display_name": "Python3.6Test",
   "language": "python",
   "name": "python3.6test"
  },
  "language_info": {
   "codemirror_mode": {
    "name": "ipython",
    "version": 3
   },
   "file_extension": ".py",
   "mimetype": "text/x-python",
   "name": "python",
   "nbconvert_exporter": "python",
   "pygments_lexer": "ipython3",
   "version": "3.6.7"
  }
 },
 "nbformat": 4,
 "nbformat_minor": 2
}
