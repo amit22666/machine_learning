{
 "cells": [
  {
   "cell_type": "code",
   "execution_count": null,
   "metadata": {},
   "outputs": [],
   "source": [
    "import cv2\n",
    "import numpy as np\n",
    "img = cv2.imread(r\"C:\\Users\\JAINY\\Desktop\\balloons_noisy.png\")\n",
    "averaging = cv2.blur(img, (21, 21))\n",
    "gaussian = cv2.GaussianBlur(img, (21, 21), 0)\n",
    "median = cv2.medianBlur(img, 5)\n",
    "bilateral = cv2.bilateralFilter(img, 9, 350, 350)\n",
    "cv2.imshow(\"Original image\", img)\n",
    "cv2.imshow(\"Averaging\", averaging)\n",
    "cv2.imshow(\"Gaussian\", gaussian)\n",
    "cv2.imshow(\"Median\", median)\n",
    "cv2.imshow(\"Bilateral\", bilateral)\n",
    "cv2.waitKey(0)\n",
    "cv2.destroyAllWindows()"
   ]
  },
  {
   "cell_type": "code",
   "execution_count": null,
   "metadata": {},
   "outputs": [],
   "source": []
  }
 ],
 "metadata": {
  "kernelspec": {
   "display_name": "Python3.6Test",
   "language": "python",
   "name": "python3.6test"
  },
  "language_info": {
   "codemirror_mode": {
    "name": "ipython",
    "version": 3
   },
   "file_extension": ".py",
   "mimetype": "text/x-python",
   "name": "python",
   "nbconvert_exporter": "python",
   "pygments_lexer": "ipython3",
   "version": "3.6.7"
  }
 },
 "nbformat": 4,
 "nbformat_minor": 2
}
