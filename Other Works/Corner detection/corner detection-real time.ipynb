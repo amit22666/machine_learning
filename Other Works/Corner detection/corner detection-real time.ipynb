{
 "cells": [
  {
   "cell_type": "code",
   "execution_count": null,
   "metadata": {},
   "outputs": [],
   "source": [
    "import cv2\n",
    "import numpy as np\n",
    "cap = cv2.VideoCapture(0)\n",
    "def nothing(x):\n",
    "    pass\n",
    "cv2.namedWindow(\"Frame\")\n",
    "cv2.createTrackbar(\"quality\", \"Frame\", 1, 100, nothing)\n",
    "while True:\n",
    "    _, frame = cap.read()\n",
    "    gray = cv2.cvtColor(frame, cv2.COLOR_BGR2GRAY)\n",
    "    quality = cv2.getTrackbarPos(\"quality\", \"Frame\")\n",
    "    quality = quality / 100 if quality > 0 else 0.01\n",
    "    corners = cv2.goodFeaturesToTrack(gray, 100, quality, 20)\n",
    "    if corners is not None:\n",
    "        corners = np.int0(corners)\n",
    "        for corner in corners:\n",
    "            x, y = corner.ravel()\n",
    "            cv2.circle(frame, (x, y), 3, (0, 0, 255), -1)\n",
    "    cv2.imshow(\"Frame\", frame)\n",
    "    key = cv2.waitKey(1)\n",
    "    if key == 27:\n",
    "        break\n",
    "cap.release()\n",
    "cv2.destroyAllWindows()"
   ]
  }
 ],
 "metadata": {
  "kernelspec": {
   "display_name": "Python3.6Test",
   "language": "python",
   "name": "python3.6test"
  },
  "language_info": {
   "codemirror_mode": {
    "name": "ipython",
    "version": 3
   },
   "file_extension": ".py",
   "mimetype": "text/x-python",
   "name": "python",
   "nbconvert_exporter": "python",
   "pygments_lexer": "ipython3",
   "version": "3.6.7"
  }
 },
 "nbformat": 4,
 "nbformat_minor": 2
}
