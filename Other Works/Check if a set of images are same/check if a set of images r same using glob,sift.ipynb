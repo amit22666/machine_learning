{
 "cells": [
  {
   "cell_type": "markdown",
   "metadata": {},
   "source": [
    "# CONCEPTS\n",
    "\n",
    "1. The images have both the same size and channels\n",
    "2. Each pixel has the same value\n",
    "3. if not, then\n",
    "    we use Feature detection and Feature matching on 2 images.\n",
    "    and in opencv  we have sift algorithm for this."
   ]
  },
  {
   "cell_type": "code",
   "execution_count": 1,
   "metadata": {},
   "outputs": [],
   "source": [
    "import cv2\n",
    "import numpy as np\n",
    "import glob"
   ]
  },
  {
   "cell_type": "code",
   "execution_count": 2,
   "metadata": {},
   "outputs": [
    {
     "name": "stdout",
     "output_type": "stream",
     "text": [
      "(1079, 1920, 3)\n"
     ]
    }
   ],
   "source": [
    "original = cv2.imread(\"C:/Users/JAINY/Downloads/check_if_two_images_are_equal/images/original_golden_bridge.jpg\")\n",
    "sift = cv2.xfeatures2d.SIFT_create()\n",
    "index_params = dict(algorithm=0, trees=5)\n",
    "search_params = dict()\n",
    "flann = cv2.FlannBasedMatcher(index_params, search_params)\n",
    "kp_1, desc_1 = sift.detectAndCompute(original, None)\n",
    "x = original.shape    \n",
    "print(x)"
   ]
  },
  {
   "cell_type": "code",
   "execution_count": 3,
   "metadata": {},
   "outputs": [],
   "source": [
    "all_img_to_compare = []\n",
    "titles = []\n",
    "all_img = glob.iglob(r\"C:\\Users\\JAINY\\Downloads\\check_if_two_images_are_equal\\images/*\")\n",
    "for f in all_img:\n",
    "    img = cv2.imread(f)\n",
    "    titles.append(f)\n",
    "    all_img_to_compare.append(img)"
   ]
  },
  {
   "cell_type": "code",
   "execution_count": 4,
   "metadata": {},
   "outputs": [
    {
     "name": "stdout",
     "output_type": "stream",
     "text": [
      "C:\\Users\\JAINY\\Downloads\\check_if_two_images_are_equal\\images\\black_and_white.jpg similarity percent69\n",
      "\n",
      "C:\\Users\\JAINY\\Downloads\\check_if_two_images_are_equal\\images\\blue_filter.jpg similarity percent90\n",
      "\n",
      "C:\\Users\\JAINY\\Downloads\\check_if_two_images_are_equal\\images\\blurred.jpg similarity percent38\n",
      "\n",
      "C:\\Users\\JAINY\\Downloads\\check_if_two_images_are_equal\\images\\cartoonized.jpg similarity percent46\n",
      "\n"
     ]
    },
    {
     "ename": "KeyboardInterrupt",
     "evalue": "",
     "output_type": "error",
     "traceback": [
      "\u001b[1;31m---------------------------------------------------------------------------\u001b[0m",
      "\u001b[1;31mKeyboardInterrupt\u001b[0m                         Traceback (most recent call last)",
      "\u001b[1;32m<ipython-input-4-be689351dc22>\u001b[0m in \u001b[0;36m<module>\u001b[1;34m\u001b[0m\n\u001b[0;32m      4\u001b[0m \u001b[1;33m\u001b[0m\u001b[0m\n\u001b[0;32m      5\u001b[0m \u001b[1;33m\u001b[0m\u001b[0m\n\u001b[1;32m----> 6\u001b[1;33m         \u001b[0mmatches\u001b[0m \u001b[1;33m=\u001b[0m \u001b[0mflann\u001b[0m\u001b[1;33m.\u001b[0m\u001b[0mknnMatch\u001b[0m\u001b[1;33m(\u001b[0m\u001b[0mdesc_1\u001b[0m\u001b[1;33m,\u001b[0m \u001b[0mdesc_2\u001b[0m\u001b[1;33m,\u001b[0m \u001b[0mk\u001b[0m\u001b[1;33m=\u001b[0m\u001b[1;36m2\u001b[0m\u001b[1;33m)\u001b[0m\u001b[1;33m\u001b[0m\u001b[1;33m\u001b[0m\u001b[0m\n\u001b[0m\u001b[0;32m      7\u001b[0m \u001b[1;33m\u001b[0m\u001b[0m\n\u001b[0;32m      8\u001b[0m \u001b[1;33m\u001b[0m\u001b[0m\n",
      "\u001b[1;31mKeyboardInterrupt\u001b[0m: "
     ]
    }
   ],
   "source": [
    "for image_to_compare,title in zip(all_img_to_compare,titles): \n",
    "   \n",
    "        kp_2, desc_2 = sift.detectAndCompute(image_to_compare, None)\n",
    "\n",
    "        \n",
    "        matches = flann.knnMatch(desc_1, desc_2, k=2)\n",
    "        \n",
    "\n",
    "        good_points = []\n",
    "        ratio = 0.6\n",
    "        for m, n in matches:\n",
    "            if m.distance < ratio*n.distance:\n",
    "                good_points.append(m)\n",
    "        result = cv2.drawMatches(original, kp_1, image_to_compare, kp_2, good_points, None)\n",
    "        number_to_consider = min(len(kp_1),len(kp_2))\n",
    "     \n",
    "        percent_match = (len(good_points)/number_to_consider)*100\n",
    "        print(title + 'similarity percent'  + ' ' + str(int(percent_match)) + '\\n')\n",
    "\n",
    "\n",
    "  \n",
    "\n"
   ]
  },
  {
   "cell_type": "code",
   "execution_count": null,
   "metadata": {},
   "outputs": [],
   "source": []
  },
  {
   "cell_type": "code",
   "execution_count": null,
   "metadata": {},
   "outputs": [],
   "source": []
  },
  {
   "cell_type": "code",
   "execution_count": null,
   "metadata": {},
   "outputs": [],
   "source": []
  }
 ],
 "metadata": {
  "kernelspec": {
   "display_name": "Python3.6Test",
   "language": "python",
   "name": "python3.6test"
  },
  "language_info": {
   "codemirror_mode": {
    "name": "ipython",
    "version": 3
   },
   "file_extension": ".py",
   "mimetype": "text/x-python",
   "name": "python",
   "nbconvert_exporter": "python",
   "pygments_lexer": "ipython3",
   "version": "3.6.7"
  }
 },
 "nbformat": 4,
 "nbformat_minor": 2
}
