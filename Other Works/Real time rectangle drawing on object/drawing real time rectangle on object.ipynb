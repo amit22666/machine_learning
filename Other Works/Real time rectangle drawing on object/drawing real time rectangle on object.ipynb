{
 "cells": [
  {
   "cell_type": "code",
   "execution_count": null,
   "metadata": {},
   "outputs": [],
   "source": [
    "import cv2\n",
    "import numpy as np\n",
    "drawing = False\n",
    "point1 = ()\n",
    "point2 = ()\n",
    "def mouse_drawing(event, x, y, flags, params):\n",
    "    global point1, point2, drawing\n",
    "    if event == cv2.EVENT_LBUTTONDOWN:\n",
    "        if drawing is False:\n",
    "            drawing = True\n",
    "            point1 = (x, y)\n",
    "        else:\n",
    "            drawing = False\n",
    "    elif event == cv2.EVENT_MOUSEMOVE:\n",
    "        if drawing is True:\n",
    "            point2 = (x, y)\n",
    "cap = cv2.VideoCapture(0)\n",
    "cv2.namedWindow(\"Frame\")\n",
    "cv2.setMouseCallback(\"Frame\", mouse_drawing)\n",
    "while True:\n",
    "    _, frame = cap.read()\n",
    "    if point1 and point2:\n",
    "        cv2.rectangle(frame, point1, point2, (0, 255, 0))\n",
    "    cv2.imshow(\"Frame\", frame)\n",
    "    key = cv2.waitKey(1)\n",
    "    if key == 27:\n",
    "        break\n",
    "cap.release()\n",
    "cv2.destroyAllWindows()"
   ]
  }
 ],
 "metadata": {
  "kernelspec": {
   "display_name": "Python3.6Test",
   "language": "python",
   "name": "python3.6test"
  },
  "language_info": {
   "codemirror_mode": {
    "name": "ipython",
    "version": 3
   },
   "file_extension": ".py",
   "mimetype": "text/x-python",
   "name": "python",
   "nbconvert_exporter": "python",
   "pygments_lexer": "ipython3",
   "version": "3.6.7"
  }
 },
 "nbformat": 4,
 "nbformat_minor": 2
}
