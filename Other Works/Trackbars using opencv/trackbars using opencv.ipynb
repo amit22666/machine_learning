{
 "cells": [
  {
   "cell_type": "code",
   "execution_count": null,
   "metadata": {},
   "outputs": [],
   "source": [
    "import cv2\n",
    "import numpy as np\n",
    "def nothing(x):\n",
    "    pass\n",
    "cap = cv2.VideoCapture(0)\n",
    "cv2.namedWindow(\"frame\")\n",
    "cv2.createTrackbar(\"test\", \"frame\", 50, 500, nothing)\n",
    "cv2.createTrackbar(\"color/gray\", \"frame\", 0, 1, nothing)\n",
    "while True:\n",
    "    _, frame = cap.read()\n",
    "    test = cv2.getTrackbarPos(\"test\", \"frame\")\n",
    "    font = cv2.FONT_HERSHEY_COMPLEX\n",
    "    cv2.putText(frame, str(test), (50, 150), font, 4, (0, 0, 255))\n",
    "    s = cv2.getTrackbarPos(\"color/gray\", \"frame\")\n",
    "    if s == 0:\n",
    "        pass\n",
    "    else:\n",
    "        frame = cv2.cvtColor(frame, cv2.COLOR_BGR2GRAY)\n",
    "    cv2.imshow(\"frame\", frame)\n",
    "    key = cv2.waitKey(1)\n",
    "    if key == 27:\n",
    "        break\n",
    "cap.release()\n",
    "cv2.destroyAllWindows()"
   ]
  },
  {
   "cell_type": "code",
   "execution_count": null,
   "metadata": {},
   "outputs": [],
   "source": []
  }
 ],
 "metadata": {
  "kernelspec": {
   "display_name": "Python3.6Test",
   "language": "python",
   "name": "python3.6test"
  },
  "language_info": {
   "codemirror_mode": {
    "name": "ipython",
    "version": 3
   },
   "file_extension": ".py",
   "mimetype": "text/x-python",
   "name": "python",
   "nbconvert_exporter": "python",
   "pygments_lexer": "ipython3",
   "version": "3.6.7"
  }
 },
 "nbformat": 4,
 "nbformat_minor": 2
}
