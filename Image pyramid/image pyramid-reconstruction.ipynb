{
 "cells": [
  {
   "cell_type": "code",
   "execution_count": null,
   "metadata": {},
   "outputs": [],
   "source": [
    "import cv2\n",
    "import numpy as np\n",
    "img = cv2.imread(\"hand.jpg\")\n"
   ]
  },
  {
   "cell_type": "code",
   "execution_count": null,
   "metadata": {},
   "outputs": [],
   "source": [
    "# Gaussian Pyramid\n",
    "layer = img.copy()\n",
    "gaussian_pyramid = [layer]\n",
    "for i in range(6):\n",
    "    layer = cv2.pyrDown(layer)\n",
    "    gaussian_pyramid.append(layer)\n"
   ]
  },
  {
   "cell_type": "code",
   "execution_count": null,
   "metadata": {},
   "outputs": [],
   "source": [
    "# Laplacian Pyramid\n",
    "layer = gaussian_pyramid[5]\n",
    "laplacian_pyramid = [layer]\n",
    "for i in range(5, 0, -1):\n",
    "    size = (gaussian_pyramid[i - 1].shape[1], gaussian_pyramid[i - 1].shape[0])\n",
    "    gaussian_expanded = cv2.pyrUp(gaussian_pyramid[i], dstsize=size)\n",
    "    laplacian = cv2.subtract(gaussian_pyramid[i - 1], gaussian_expanded)\n",
    "    laplacian_pyramid.append(laplacian)\n",
    "reconstructed_image = laplacian_pyramid[0]\n",
    "for i in range(1, 6):\n",
    "    size = (laplacian_pyramid[i].shape[1], laplacian_pyramid[i].shape[0])\n",
    "    reconstructed_image = cv2.pyrUp(reconstructed_image, dstsize=size)\n",
    "    reconstructed_image = cv2.add(reconstructed_image, laplacian_pyramid[i])\n",
    "    cv2.imshow(str(i), reconstructed_image)\n",
    "cv2.imshow(\"original\", img)\n",
    "cv2.waitKey(0)\n",
    "cv2.destroyAllWindows()"
   ]
  }
 ],
 "metadata": {
  "kernelspec": {
   "display_name": "Python3.6Test",
   "language": "python",
   "name": "python3.6test"
  },
  "language_info": {
   "codemirror_mode": {
    "name": "ipython",
    "version": 3
   },
   "file_extension": ".py",
   "mimetype": "text/x-python",
   "name": "python",
   "nbconvert_exporter": "python",
   "pygments_lexer": "ipython3",
   "version": "3.6.7"
  }
 },
 "nbformat": 4,
 "nbformat_minor": 2
}
