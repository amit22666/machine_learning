{
 "cells": [
  {
   "cell_type": "code",
   "execution_count": 1,
   "metadata": {},
   "outputs": [],
   "source": [
    "import pandas as pd\n",
    "import numpy as np\n"
   ]
  },
  {
   "cell_type": "code",
   "execution_count": 2,
   "metadata": {},
   "outputs": [],
   "source": [
    "df_shared_articles = pd.read_csv('shared_articles.csv')"
   ]
  },
  {
   "cell_type": "code",
   "execution_count": 3,
   "metadata": {},
   "outputs": [
    {
     "name": "stdout",
     "output_type": "stream",
     "text": [
      "    timestamp        eventType            contentId       authorPersonId  \\\n",
      "0  1459192779  CONTENT REMOVED -6451309518266745024  4340306774493623681   \n",
      "1  1459193988   CONTENT SHARED -4110354420726924665  4340306774493623681   \n",
      "2  1459194146   CONTENT SHARED -7292285110016212249  4340306774493623681   \n",
      "3  1459194474   CONTENT SHARED -6151852268067518688  3891637997717104548   \n",
      "4  1459194497   CONTENT SHARED  2448026894306402386  4340306774493623681   \n",
      "\n",
      "       authorSessionId authorUserAgent authorRegion authorCountry contentType  \\\n",
      "0  8940341205206233829             NaN          NaN           NaN        HTML   \n",
      "1  8940341205206233829             NaN          NaN           NaN        HTML   \n",
      "2  8940341205206233829             NaN          NaN           NaN        HTML   \n",
      "3 -1457532940883382585             NaN          NaN           NaN        HTML   \n",
      "4  8940341205206233829             NaN          NaN           NaN        HTML   \n",
      "\n",
      "                                                 url  \\\n",
      "0  http://www.nytimes.com/2016/03/28/business/dea...   \n",
      "1  http://www.nytimes.com/2016/03/28/business/dea...   \n",
      "2  http://cointelegraph.com/news/bitcoin-future-w...   \n",
      "3  https://cloudplatform.googleblog.com/2016/03/G...   \n",
      "4  https://bitcoinmagazine.com/articles/ibm-wants...   \n",
      "\n",
      "                                               title  \\\n",
      "0  Ethereum, a Virtual Currency, Enables Transact...   \n",
      "1  Ethereum, a Virtual Currency, Enables Transact...   \n",
      "2  Bitcoin Future: When GBPcoin of Branson Wins O...   \n",
      "3                       Google Data Center 360° Tour   \n",
      "4  IBM Wants to \"Evolve the Internet\" With Blockc...   \n",
      "\n",
      "                                                text lang  \n",
      "0  All of this work is still very early. The firs...   en  \n",
      "1  All of this work is still very early. The firs...   en  \n",
      "2  The alarm clock wakes me at 8:00 with stream o...   en  \n",
      "3  We're excited to share the Google Data Center ...   en  \n",
      "4  The Aite Group projects the blockchain market ...   en  \n"
     ]
    }
   ],
   "source": [
    "print(df_shared_articles.head())"
   ]
  },
  {
   "cell_type": "code",
   "execution_count": 4,
   "metadata": {},
   "outputs": [
    {
     "name": "stdout",
     "output_type": "stream",
     "text": [
      "<class 'pandas.core.frame.DataFrame'>\n",
      "RangeIndex: 3122 entries, 0 to 3121\n",
      "Data columns (total 13 columns):\n",
      "timestamp          3122 non-null int64\n",
      "eventType          3122 non-null object\n",
      "contentId          3122 non-null int64\n",
      "authorPersonId     3122 non-null int64\n",
      "authorSessionId    3122 non-null int64\n",
      "authorUserAgent    680 non-null object\n",
      "authorRegion       680 non-null object\n",
      "authorCountry      680 non-null object\n",
      "contentType        3122 non-null object\n",
      "url                3122 non-null object\n",
      "title              3122 non-null object\n",
      "text               3122 non-null object\n",
      "lang               3122 non-null object\n",
      "dtypes: int64(4), object(9)\n",
      "memory usage: 317.2+ KB\n",
      "None\n"
     ]
    }
   ],
   "source": [
    "print(df_shared_articles.info())"
   ]
  },
  {
   "cell_type": "code",
   "execution_count": 5,
   "metadata": {},
   "outputs": [
    {
     "name": "stdout",
     "output_type": "stream",
     "text": [
      "          timestamp     contentId  authorPersonId  authorSessionId\n",
      "count  3.122000e+03  3.122000e+03    3.122000e+03     3.122000e+03\n",
      "mean   1.468804e+09  3.284110e+16    3.984819e+17     1.976675e+17\n",
      "std    7.571512e+06  5.383734e+18    4.387115e+18     5.403753e+18\n",
      "min    1.459193e+09 -9.222795e+18   -9.120686e+18    -9.212055e+18\n",
      "25%    1.462369e+09 -4.660869e+18   -1.578288e+18    -4.651280e+18\n",
      "50%    1.467136e+09  4.436584e+16   -7.092877e+17     4.154103e+17\n",
      "75%    1.473873e+09  4.745617e+18    3.609194e+18     4.841644e+18\n",
      "max    1.488308e+09  9.222265e+18    9.210531e+18     9.221043e+18\n"
     ]
    }
   ],
   "source": [
    "print(df_shared_articles.describe())"
   ]
  },
  {
   "cell_type": "code",
   "execution_count": 6,
   "metadata": {},
   "outputs": [
    {
     "name": "stdout",
     "output_type": "stream",
     "text": [
      "3122\n"
     ]
    }
   ],
   "source": [
    "print(len(df_shared_articles))"
   ]
  },
  {
   "cell_type": "code",
   "execution_count": 7,
   "metadata": {},
   "outputs": [],
   "source": [
    "content_shared = df_shared_articles[df_shared_articles['eventType'] == 'CONTENT SHARED']\n",
    "content_removed = df_shared_articles[df_shared_articles['eventType'] == 'CONTENT REMOVED']"
   ]
  },
  {
   "cell_type": "code",
   "execution_count": 8,
   "metadata": {},
   "outputs": [
    {
     "name": "stdout",
     "output_type": "stream",
     "text": [
      "97.59769378603458 2.4023062139654066\n"
     ]
    }
   ],
   "source": [
    "print((len(content_shared)/len(df_shared_articles))*100,(len(content_removed)/len(df_shared_articles))*100)"
   ]
  },
  {
   "cell_type": "markdown",
   "metadata": {},
   "source": [
    "# 97.59% data is shared and only 2.40% data was removed"
   ]
  },
  {
   "cell_type": "code",
   "execution_count": 9,
   "metadata": {},
   "outputs": [
    {
     "name": "stdout",
     "output_type": "stream",
     "text": [
      "['en' 'pt' 'es' 'la' 'ja']\n"
     ]
    }
   ],
   "source": [
    "types_lang = df_shared_articles['lang'].unique()\n",
    "print(types_lang)"
   ]
  },
  {
   "cell_type": "code",
   "execution_count": 10,
   "metadata": {},
   "outputs": [],
   "source": [
    "dummy = [0,0,0,0,0]\n",
    "dummy[0] = len(content_shared[content_shared['lang'] == 'en'])\n",
    "dummy[1] = len(content_shared[content_shared['lang'] == 'pt'])\n",
    "dummy[2] = len(content_shared[content_shared['lang'] == 'es']) \n",
    "dummy[3] = len(content_shared[content_shared['lang'] == 'la'])\n",
    "dummy[4] = len(content_shared[content_shared['lang'] == 'ja'])\n",
    "len_content_shared = len(content_shared)       \n",
    "    "
   ]
  },
  {
   "cell_type": "code",
   "execution_count": 11,
   "metadata": {},
   "outputs": [
    {
     "name": "stdout",
     "output_type": "stream",
     "text": [
      "72.56317689530685\n",
      "27.207088939940927\n",
      "0.06563833278634722\n",
      "0.09845749917952085\n",
      "0.06563833278634722\n"
     ]
    }
   ],
   "source": [
    "print(dummy[0]/len_content_shared *100)\n",
    "print(dummy[1]/len_content_shared *100)\n",
    "print(dummy[2]/len_content_shared *100)\n",
    "print(dummy[3]/len_content_shared *100)\n",
    "print(dummy[4]/len_content_shared *100)\n"
   ]
  },
  {
   "cell_type": "markdown",
   "metadata": {},
   "source": [
    "# about 99.7% shared articles belongs to lang as \"en\",\"pt\""
   ]
  },
  {
   "cell_type": "code",
   "execution_count": null,
   "metadata": {},
   "outputs": [],
   "source": []
  },
  {
   "cell_type": "code",
   "execution_count": 12,
   "metadata": {},
   "outputs": [],
   "source": [
    "df_user_interaction = pd.read_csv('users_interactions.csv')"
   ]
  },
  {
   "cell_type": "code",
   "execution_count": 13,
   "metadata": {},
   "outputs": [
    {
     "name": "stdout",
     "output_type": "stream",
     "text": [
      "    timestamp eventType            contentId             personId  \\\n",
      "0  1465413032      VIEW -3499919498720038879 -8845298781299428018   \n",
      "1  1465412560      VIEW  8890720798209849691 -1032019229384696495   \n",
      "2  1465416190      VIEW   310515487419366995 -1130272294246983140   \n",
      "3  1465413895    FOLLOW   310515487419366995   344280948527967603   \n",
      "4  1465412290      VIEW -7820640624231356730  -445337111692715325   \n",
      "\n",
      "             sessionId                                          userAgent  \\\n",
      "0  1264196770339959068                                                NaN   \n",
      "1  3621737643587579081  Mozilla/5.0 (Macintosh; Intel Mac OS X 10_11_2...   \n",
      "2  2631864456530402479                                                NaN   \n",
      "3 -3167637573980064150                                                NaN   \n",
      "4  5611481178424124714                                                NaN   \n",
      "\n",
      "  userRegion userCountry  \n",
      "0        NaN         NaN  \n",
      "1         NY          US  \n",
      "2        NaN         NaN  \n",
      "3        NaN         NaN  \n",
      "4        NaN         NaN  \n"
     ]
    }
   ],
   "source": [
    "print(df_user_interaction.head())"
   ]
  },
  {
   "cell_type": "code",
   "execution_count": 14,
   "metadata": {},
   "outputs": [
    {
     "name": "stdout",
     "output_type": "stream",
     "text": [
      "<class 'pandas.core.frame.DataFrame'>\n",
      "RangeIndex: 72312 entries, 0 to 72311\n",
      "Data columns (total 8 columns):\n",
      "timestamp      72312 non-null int64\n",
      "eventType      72312 non-null object\n",
      "contentId      72312 non-null int64\n",
      "personId       72312 non-null int64\n",
      "sessionId      72312 non-null int64\n",
      "userAgent      56918 non-null object\n",
      "userRegion     56907 non-null object\n",
      "userCountry    56918 non-null object\n",
      "dtypes: int64(4), object(4)\n",
      "memory usage: 4.4+ MB\n",
      "None\n"
     ]
    }
   ],
   "source": [
    "print(df_user_interaction.info())"
   ]
  },
  {
   "cell_type": "code",
   "execution_count": 15,
   "metadata": {},
   "outputs": [
    {
     "data": {
      "text/plain": [
       "array(['VIEW', 'FOLLOW', 'BOOKMARK', 'LIKE', 'COMMENT CREATED'],\n",
       "      dtype=object)"
      ]
     },
     "execution_count": 15,
     "metadata": {},
     "output_type": "execute_result"
    }
   ],
   "source": [
    "df_user_interaction['eventType'].unique()"
   ]
  },
  {
   "cell_type": "code",
   "execution_count": 16,
   "metadata": {},
   "outputs": [],
   "source": [
    "dummy = [0,0,0,0,0]\n",
    "dummy[0] = len(df_user_interaction[df_user_interaction['eventType'] == 'VIEW'])\n",
    "dummy[1] = len(df_user_interaction[df_user_interaction['eventType'] == 'FOLLOW'])\n",
    "dummy[2] = len(df_user_interaction[df_user_interaction['eventType'] == 'BOOKMARK']) \n",
    "dummy[3] = len(df_user_interaction[df_user_interaction['eventType'] == 'LIKE'])\n",
    "dummy[4] = len(df_user_interaction[df_user_interaction['eventType'] == 'COMMENT CREATED'])\n",
    "len_df_user_interactions = len(df_user_interaction)       \n",
    "    "
   ]
  },
  {
   "cell_type": "code",
   "execution_count": 17,
   "metadata": {},
   "outputs": [
    {
     "name": "stdout",
     "output_type": "stream",
     "text": [
      "84.47560570859608\n",
      "1.945735147693329\n",
      "3.4060736807168936\n",
      "7.944739462329904\n",
      "2.2278460006637903\n"
     ]
    }
   ],
   "source": [
    "print(dummy[0]/len_df_user_interactions *100)\n",
    "print(dummy[1]/len_df_user_interactions *100)\n",
    "print(dummy[2]/len_df_user_interactions *100)\n",
    "print(dummy[3]/len_df_user_interactions *100)\n",
    "print(dummy[4]/len_df_user_interactions *100)\n"
   ]
  },
  {
   "cell_type": "markdown",
   "metadata": {},
   "source": [
    "# about 84.4% articles were viewed followed by 15.6% other activities."
   ]
  },
  {
   "cell_type": "code",
   "execution_count": 18,
   "metadata": {},
   "outputs": [],
   "source": [
    "event_type_strength = {\n",
    "   'VIEW': 1.0,\n",
    "   'LIKE': 2.0, \n",
    "   'BOOKMARK': 2.5, \n",
    "   'FOLLOW': 3.0,\n",
    "   'COMMENT CREATED': 4.0,  \n",
    "}"
   ]
  },
  {
   "cell_type": "code",
   "execution_count": 19,
   "metadata": {},
   "outputs": [],
   "source": [
    "df_user_interaction['eventStrength'] = df_user_interaction['eventType'].apply(lambda x: event_type_strength[x])"
   ]
  },
  {
   "cell_type": "code",
   "execution_count": 20,
   "metadata": {},
   "outputs": [
    {
     "name": "stdout",
     "output_type": "stream",
     "text": [
      "1895\n",
      "2987\n",
      "72312\n"
     ]
    }
   ],
   "source": [
    "print(len(df_user_interaction['personId'].unique()))\n",
    "print(len(df_user_interaction['contentId'].unique()))\n",
    "print(len(df_user_interaction['contentId']))"
   ]
  },
  {
   "cell_type": "code",
   "execution_count": 21,
   "metadata": {},
   "outputs": [
    {
     "name": "stdout",
     "output_type": "stream",
     "text": [
      "29.92919317040509\n"
     ]
    }
   ],
   "source": [
    "duplicate_df_user_interaction = df_user_interaction[['contentId','eventStrength']]\n",
    "for_graph = duplicate_df_user_interaction.groupby(['contentId'])['eventStrength'].sum().reset_index()\n",
    "print(for_graph['eventStrength'].mean())\n"
   ]
  },
  {
   "cell_type": "code",
   "execution_count": 22,
   "metadata": {},
   "outputs": [
    {
     "data": {
      "text/plain": [
       "<matplotlib.axes._subplots.AxesSubplot at 0x2091e1503c8>"
      ]
     },
     "execution_count": 22,
     "metadata": {},
     "output_type": "execute_result"
    }
   ],
   "source": [
    "import seaborn as sns\n",
    "x1 = for_graph['contentId']\n",
    "y1 = for_graph['eventStrength']\n",
    "sns.scatterplot(x=x1,y=y1)"
   ]
  },
  {
   "cell_type": "code",
   "execution_count": 23,
   "metadata": {},
   "outputs": [],
   "source": [
    "df_users_interactions_count = df_user_interaction.groupby(['personId', 'contentId']).size().groupby('personId').size()"
   ]
  },
  {
   "cell_type": "code",
   "execution_count": 24,
   "metadata": {},
   "outputs": [],
   "source": [
    "df_users_with_enough_interactions = df_users_interactions_count[df_users_interactions_count >= 5].reset_index()[['personId']]"
   ]
  },
  {
   "cell_type": "code",
   "execution_count": 25,
   "metadata": {},
   "outputs": [],
   "source": [
    "df_interactions_from_selected_users = df_user_interaction.merge(df_users_with_enough_interactions,how = 'right',left_on = 'personId',right_on = 'personId')"
   ]
  },
  {
   "cell_type": "code",
   "execution_count": 26,
   "metadata": {},
   "outputs": [],
   "source": [
    "df_interactions_from_selected_users = df_interactions_from_selected_users[['contentId','personId','eventStrength']]"
   ]
  },
  {
   "cell_type": "code",
   "execution_count": 27,
   "metadata": {},
   "outputs": [
    {
     "name": "stdout",
     "output_type": "stream",
     "text": [
      "                 contentId             personId  eventStrength\n",
      "0     -3499919498720038879 -8845298781299428018            1.0\n",
      "1     -3499919498720038879 -8845298781299428018            1.0\n",
      "2      6437568358552101410 -8845298781299428018            1.0\n",
      "3     -4760639635023250284 -8845298781299428018            1.0\n",
      "4     -6142462826726347616 -8845298781299428018            1.0\n",
      "...                    ...                  ...            ...\n",
      "69863 -1876558460087500339 -9063420486253202900            2.5\n",
      "69864  -912681925384819247 -9063420486253202900            2.5\n",
      "69865 -1419188045265393093 -9063420486253202900            1.0\n",
      "69866 -1419188045265393093 -9063420486253202900            1.0\n",
      "69867 -1419188045265393093 -9063420486253202900            1.0\n",
      "\n",
      "[69868 rows x 3 columns]\n"
     ]
    }
   ],
   "source": [
    "print(df_interactions_from_selected_users)"
   ]
  },
  {
   "cell_type": "code",
   "execution_count": 28,
   "metadata": {},
   "outputs": [],
   "source": [
    "df_final_interactions = df_interactions_from_selected_users.groupby(['personId', 'contentId'])['eventStrength'].sum().reset_index()"
   ]
  },
  {
   "cell_type": "code",
   "execution_count": 29,
   "metadata": {},
   "outputs": [
    {
     "name": "stdout",
     "output_type": "stream",
     "text": [
      "                  personId            contentId  eventStrength\n",
      "0     -9223121837663643404 -8949113594875411859            1.0\n",
      "1     -9223121837663643404 -8377626164558006982            1.0\n",
      "2     -9223121837663643404 -8208801367848627943            1.0\n",
      "3     -9223121837663643404 -8187220755213888616            1.0\n",
      "4     -9223121837663643404 -7423191370472335463            8.0\n",
      "...                    ...                  ...            ...\n",
      "39101  9210530975708218054  8477804012624580461            8.5\n",
      "39102  9210530975708218054  8526042588044002101            1.0\n",
      "39103  9210530975708218054  8856169137131817223            1.0\n",
      "39104  9210530975708218054  8869347744613364434            1.0\n",
      "39105  9210530975708218054  9209886322932807692            1.0\n",
      "\n",
      "[39106 rows x 3 columns]\n"
     ]
    }
   ],
   "source": [
    "print(df_final_interactions)"
   ]
  },
  {
   "cell_type": "code",
   "execution_count": 30,
   "metadata": {},
   "outputs": [
    {
     "name": "stdout",
     "output_type": "stream",
     "text": [
      "1140\n",
      "2984\n"
     ]
    }
   ],
   "source": [
    "print(len(df_final_interactions['personId'].unique()))\n",
    "print(len(df_final_interactions['contentId'].unique()))\n",
    "\n"
   ]
  },
  {
   "cell_type": "markdown",
   "metadata": {},
   "source": [
    "# Train Test split"
   ]
  },
  {
   "cell_type": "code",
   "execution_count": 31,
   "metadata": {},
   "outputs": [
    {
     "name": "stdout",
     "output_type": "stream",
     "text": [
      "# interactions on Train set: 31284\n",
      "# interactions on Test set: 7822\n"
     ]
    }
   ],
   "source": [
    "from sklearn.model_selection import train_test_split\n",
    "df_train_interactions, df_test_interactions = train_test_split(df_final_interactions,\n",
    "                                   stratify=df_final_interactions['personId'], \n",
    "                                   test_size=0.20,\n",
    "                                   random_state=42)\n",
    "\n",
    "print('# interactions on Train set: %d' % len(df_train_interactions))\n",
    "print('# interactions on Test set: %d' % len(df_test_interactions))"
   ]
  },
  {
   "cell_type": "markdown",
   "metadata": {},
   "source": [
    "# popularity model"
   ]
  },
  {
   "cell_type": "code",
   "execution_count": 32,
   "metadata": {},
   "outputs": [
    {
     "data": {
      "text/html": [
       "<div>\n",
       "<style scoped>\n",
       "    .dataframe tbody tr th:only-of-type {\n",
       "        vertical-align: middle;\n",
       "    }\n",
       "\n",
       "    .dataframe tbody tr th {\n",
       "        vertical-align: top;\n",
       "    }\n",
       "\n",
       "    .dataframe thead th {\n",
       "        text-align: right;\n",
       "    }\n",
       "</style>\n",
       "<table border=\"1\" class=\"dataframe\">\n",
       "  <thead>\n",
       "    <tr style=\"text-align: right;\">\n",
       "      <th></th>\n",
       "      <th>contentId</th>\n",
       "      <th>eventStrength</th>\n",
       "    </tr>\n",
       "  </thead>\n",
       "  <tbody>\n",
       "    <tr>\n",
       "      <th>0</th>\n",
       "      <td>-4029704725707465084</td>\n",
       "      <td>457.5</td>\n",
       "    </tr>\n",
       "    <tr>\n",
       "      <th>1</th>\n",
       "      <td>-2358756719610361882</td>\n",
       "      <td>361.0</td>\n",
       "    </tr>\n",
       "    <tr>\n",
       "      <th>2</th>\n",
       "      <td>-6783772548752091658</td>\n",
       "      <td>357.0</td>\n",
       "    </tr>\n",
       "    <tr>\n",
       "      <th>3</th>\n",
       "      <td>8657408509986329668</td>\n",
       "      <td>338.0</td>\n",
       "    </tr>\n",
       "    <tr>\n",
       "      <th>4</th>\n",
       "      <td>-133139342397538859</td>\n",
       "      <td>336.5</td>\n",
       "    </tr>\n",
       "    <tr>\n",
       "      <th>5</th>\n",
       "      <td>-8208801367848627943</td>\n",
       "      <td>327.5</td>\n",
       "    </tr>\n",
       "    <tr>\n",
       "      <th>6</th>\n",
       "      <td>-6843047699859121724</td>\n",
       "      <td>315.0</td>\n",
       "    </tr>\n",
       "    <tr>\n",
       "      <th>7</th>\n",
       "      <td>2581138407738454418</td>\n",
       "      <td>310.0</td>\n",
       "    </tr>\n",
       "    <tr>\n",
       "      <th>8</th>\n",
       "      <td>2857117417189640073</td>\n",
       "      <td>308.5</td>\n",
       "    </tr>\n",
       "    <tr>\n",
       "      <th>9</th>\n",
       "      <td>-1633984990770981161</td>\n",
       "      <td>298.0</td>\n",
       "    </tr>\n",
       "  </tbody>\n",
       "</table>\n",
       "</div>"
      ],
      "text/plain": [
       "             contentId  eventStrength\n",
       "0 -4029704725707465084          457.5\n",
       "1 -2358756719610361882          361.0\n",
       "2 -6783772548752091658          357.0\n",
       "3  8657408509986329668          338.0\n",
       "4  -133139342397538859          336.5\n",
       "5 -8208801367848627943          327.5\n",
       "6 -6843047699859121724          315.0\n",
       "7  2581138407738454418          310.0\n",
       "8  2857117417189640073          308.5\n",
       "9 -1633984990770981161          298.0"
      ]
     },
     "execution_count": 32,
     "metadata": {},
     "output_type": "execute_result"
    }
   ],
   "source": [
    "#Computes the most popular items\n",
    "df_popularity_model = df_final_interactions.groupby('contentId')['eventStrength'].sum().sort_values(ascending=False).reset_index()\n",
    "df_popularity_model.head(10)"
   ]
  },
  {
   "cell_type": "markdown",
   "metadata": {},
   "source": [
    "# content based model"
   ]
  },
  {
   "cell_type": "markdown",
   "metadata": {},
   "source": [
    "# note that tf idf is used on title+text of given data"
   ]
  },
  {
   "cell_type": "code",
   "execution_count": 33,
   "metadata": {},
   "outputs": [],
   "source": [
    "dup_df_shared_articles = df_shared_articles\n",
    "dup_df_shared_articles['title_and_text'] = df_shared_articles['title'] + \" \" + df_shared_articles['text']\n"
   ]
  },
  {
   "cell_type": "code",
   "execution_count": 34,
   "metadata": {},
   "outputs": [],
   "source": [
    "from nltk.corpus import stopwords\n",
    "from sklearn.feature_extraction.text import TfidfVectorizer\n",
    "stopwords_list = stopwords.words('english') + stopwords.words('portuguese')\n",
    "vectorizer = TfidfVectorizer(analyzer='word',\n",
    "                     token_pattern=r'\\w{1,}',\n",
    "                     ngram_range=(1, 2),\n",
    "                     min_df=0.003,\n",
    "                     max_df=0.5,\n",
    "                     max_features=5000,\n",
    "                     stop_words=stopwords_list)\n",
    "tfidf_matrix = vectorizer.fit_transform((dup_df_shared_articles['title_and_text']).str.lower())\n"
   ]
  },
  {
   "cell_type": "code",
   "execution_count": 35,
   "metadata": {},
   "outputs": [
    {
     "name": "stdout",
     "output_type": "stream",
     "text": [
      "3122\n",
      "(3122, 5000)\n",
      "<class 'scipy.sparse.csr.csr_matrix'>\n"
     ]
    }
   ],
   "source": [
    "print(len(dup_df_shared_articles['title_and_text']))\n",
    "print(tfidf_matrix.shape)\n",
    "print(type(tfidf_matrix))\n",
    "#print(tfidf_matrix)"
   ]
  },
  {
   "cell_type": "code",
   "execution_count": 36,
   "metadata": {},
   "outputs": [
    {
     "name": "stdout",
     "output_type": "stream",
     "text": [
      "  (0, 16)\t0.023412764268819004\n",
      "  (0, 948)\t0.02354951449797743\n",
      "  (0, 368)\t0.02104876375343444\n",
      "  (0, 4204)\t0.022492824577581432\n",
      "  (0, 4186)\t0.029546127991827605\n",
      "  (0, 4972)\t0.023762037789310526\n",
      "  (0, 2528)\t0.04682552853763801\n",
      "  (0, 2721)\t0.023345787838616357\n",
      "  (0, 2394)\t0.02272182827159206\n",
      "  (0, 3721)\t0.0204968448625716\n",
      "  (0, 2529)\t0.01745237523818198\n",
      "  (0, 334)\t0.014775675894734566\n",
      "  (0, 153)\t0.018095378123662804\n",
      "  (0, 1307)\t0.01710337696674317\n",
      "  (0, 1249)\t0.02383496788887259\n",
      "  (0, 4973)\t0.011886073287213132\n",
      "  (0, 14)\t0.012118475456803652\n",
      "  (0, 2610)\t0.014361948784163242\n",
      "  (0, 1885)\t0.022663570885372627\n",
      "  (0, 29)\t0.010543414090243975\n",
      "  (0, 736)\t0.019280463538296252\n",
      "  (0, 3531)\t0.015201885597581028\n",
      "  (0, 4513)\t0.013663230680366978\n",
      "  (0, 4396)\t0.01371938366583984\n",
      "  (0, 711)\t0.024378177352018415\n",
      "  :\t:\n",
      "  (0, 4014)\t0.016262339249444705\n",
      "  (0, 3964)\t0.04006977097971936\n",
      "  (0, 2748)\t0.059069407987017646\n",
      "  (0, 3535)\t0.04415307897058428\n",
      "  (0, 2569)\t0.02104876375343444\n",
      "  (0, 4465)\t0.016588464548583457\n",
      "  (0, 1736)\t0.035919765285833384\n",
      "  (0, 1091)\t0.031497527772580226\n",
      "  (0, 4410)\t0.1319734320193728\n",
      "  (0, 3800)\t0.05309877485439834\n",
      "  (0, 3743)\t0.045643866581318276\n",
      "  (0, 4203)\t0.059658421289101635\n",
      "  (0, 4803)\t0.028469809056969265\n",
      "  (0, 3624)\t0.03191296729480754\n",
      "  (0, 1942)\t0.013480549544539339\n",
      "  (0, 1859)\t0.01923763927244998\n",
      "  (0, 1441)\t0.014683228263545033\n",
      "  (0, 4322)\t0.03329026757227297\n",
      "  (0, 4935)\t0.019853968189361276\n",
      "  (0, 551)\t0.36920653436183937\n",
      "  (0, 4604)\t0.041068559921419744\n",
      "  (0, 1514)\t0.03861935682294857\n",
      "  (0, 1146)\t0.09184802882764191\n",
      "  (0, 4821)\t0.050280012789138115\n",
      "  (0, 1613)\t0.6964473824224116\n"
     ]
    }
   ],
   "source": [
    "print(tfidf_matrix[0])"
   ]
  },
  {
   "cell_type": "code",
   "execution_count": 37,
   "metadata": {},
   "outputs": [],
   "source": [
    "tfidf_feature_names = vectorizer.get_feature_names()"
   ]
  },
  {
   "cell_type": "code",
   "execution_count": 38,
   "metadata": {},
   "outputs": [
    {
     "name": "stdout",
     "output_type": "stream",
     "text": [
      "5000\n"
     ]
    }
   ],
   "source": [
    "print(len(tfidf_feature_names))"
   ]
  },
  {
   "cell_type": "code",
   "execution_count": 39,
   "metadata": {},
   "outputs": [],
   "source": [
    "from sklearn.metrics.pairwise import cosine_similarity\n",
    "from sklearn.metrics.pairwise import sigmoid_kernel"
   ]
  },
  {
   "cell_type": "code",
   "execution_count": 40,
   "metadata": {},
   "outputs": [],
   "source": [
    "sigmoid_kernel_output = sigmoid_kernel(tfidf_matrix,tfidf_matrix)"
   ]
  },
  {
   "cell_type": "code",
   "execution_count": 41,
   "metadata": {},
   "outputs": [
    {
     "name": "stdout",
     "output_type": "stream",
     "text": [
      "<class 'numpy.ndarray'>\n",
      "(3122, 3122)\n"
     ]
    }
   ],
   "source": [
    "print(type(sigmoid_kernel_output))\n",
    "print(sigmoid_kernel_output.shape)\n"
   ]
  },
  {
   "cell_type": "code",
   "execution_count": 42,
   "metadata": {},
   "outputs": [
    {
     "name": "stdout",
     "output_type": "stream",
     "text": [
      "[0.76167814 0.76167814 0.76160088 ... 0.76159991 0.76160459 0.76159557]\n"
     ]
    }
   ],
   "source": [
    "print(sigmoid_kernel_output[0])"
   ]
  },
  {
   "cell_type": "code",
   "execution_count": 43,
   "metadata": {},
   "outputs": [],
   "source": [
    "dic_dup_df_shared_articles = dup_df_shared_articles['title_and_text'].to_dict()"
   ]
  },
  {
   "cell_type": "code",
   "execution_count": 44,
   "metadata": {},
   "outputs": [],
   "source": [
    "key_list = list(dic_dup_df_shared_articles.keys()) \n",
    "val_list = list(dic_dup_df_shared_articles.values()) "
   ]
  },
  {
   "cell_type": "code",
   "execution_count": 45,
   "metadata": {},
   "outputs": [],
   "source": [
    "def gives_results(input_,sigmoid_kernel_output):\n",
    "    index = key_list[val_list.index(input_)]\n",
    "    content_sigmoid_output = list(enumerate(sigmoid_kernel_output[index]))\n",
    "    content_sigmoid_output1 = sorted(content_sigmoid_output, key=lambda x: x[1], reverse=True)\n",
    "    final_content_sigmoid_output1 = content_sigmoid_output1[1:11]\n",
    "    index_final_output = [i[0] for i in final_content_sigmoid_output1]\n",
    "    return df_shared_articles['title'].iloc[index_final_output]\n",
    "    \n",
    " "
   ]
  },
  {
   "cell_type": "markdown",
   "metadata": {},
   "source": [
    "# note the input given in this function is title+text"
   ]
  },
  {
   "cell_type": "code",
   "execution_count": 46,
   "metadata": {},
   "outputs": [
    {
     "ename": "NameError",
     "evalue": "name 'input_' is not defined",
     "output_type": "error",
     "traceback": [
      "\u001b[1;31m---------------------------------------------------------------------------\u001b[0m",
      "\u001b[1;31mNameError\u001b[0m                                 Traceback (most recent call last)",
      "\u001b[1;32m<ipython-input-46-7fe6be3cbf59>\u001b[0m in \u001b[0;36m<module>\u001b[1;34m\u001b[0m\n\u001b[1;32m----> 1\u001b[1;33m \u001b[0mcontent_based_10_recommendations\u001b[0m \u001b[1;33m=\u001b[0m \u001b[0mgives_results\u001b[0m\u001b[1;33m(\u001b[0m\u001b[0minput_\u001b[0m\u001b[1;33m,\u001b[0m\u001b[0msigmoid_kernel_output\u001b[0m\u001b[1;33m)\u001b[0m\u001b[1;33m\u001b[0m\u001b[1;33m\u001b[0m\u001b[0m\n\u001b[0m",
      "\u001b[1;31mNameError\u001b[0m: name 'input_' is not defined"
     ]
    }
   ],
   "source": [
    "content_based_10_recommendations = gives_results(input_,sigmoid_kernel_output)"
   ]
  },
  {
   "cell_type": "code",
   "execution_count": null,
   "metadata": {},
   "outputs": [],
   "source": [
    "print(content_based_10_recommendations)"
   ]
  },
  {
   "cell_type": "markdown",
   "metadata": {},
   "source": [
    "# Content Collaborative Filtering"
   ]
  },
  {
   "cell_type": "code",
   "execution_count": 46,
   "metadata": {},
   "outputs": [
    {
     "data": {
      "text/html": [
       "<div>\n",
       "<style scoped>\n",
       "    .dataframe tbody tr th:only-of-type {\n",
       "        vertical-align: middle;\n",
       "    }\n",
       "\n",
       "    .dataframe tbody tr th {\n",
       "        vertical-align: top;\n",
       "    }\n",
       "\n",
       "    .dataframe thead th {\n",
       "        text-align: right;\n",
       "    }\n",
       "</style>\n",
       "<table border=\"1\" class=\"dataframe\">\n",
       "  <thead>\n",
       "    <tr style=\"text-align: right;\">\n",
       "      <th>contentId</th>\n",
       "      <th>-9222795471790223670</th>\n",
       "      <th>-9216926795620865886</th>\n",
       "      <th>-9194572880052200111</th>\n",
       "      <th>-9192549002213406534</th>\n",
       "      <th>-9190737901804729417</th>\n",
       "      <th>-9189659052158407108</th>\n",
       "      <th>-9176143510534135851</th>\n",
       "      <th>-9172673334835262304</th>\n",
       "      <th>-9171475473795142532</th>\n",
       "      <th>-9166778629773133902</th>\n",
       "      <th>...</th>\n",
       "      <th>9191014301634017491</th>\n",
       "      <th>9207286802575546269</th>\n",
       "      <th>9208127165664287660</th>\n",
       "      <th>9209629151177723638</th>\n",
       "      <th>9209886322932807692</th>\n",
       "      <th>9213260650272029784</th>\n",
       "      <th>9215261273565326920</th>\n",
       "      <th>9217155070834564627</th>\n",
       "      <th>9220445660318725468</th>\n",
       "      <th>9222265156747237864</th>\n",
       "    </tr>\n",
       "    <tr>\n",
       "      <th>personId</th>\n",
       "      <th></th>\n",
       "      <th></th>\n",
       "      <th></th>\n",
       "      <th></th>\n",
       "      <th></th>\n",
       "      <th></th>\n",
       "      <th></th>\n",
       "      <th></th>\n",
       "      <th></th>\n",
       "      <th></th>\n",
       "      <th></th>\n",
       "      <th></th>\n",
       "      <th></th>\n",
       "      <th></th>\n",
       "      <th></th>\n",
       "      <th></th>\n",
       "      <th></th>\n",
       "      <th></th>\n",
       "      <th></th>\n",
       "      <th></th>\n",
       "      <th></th>\n",
       "    </tr>\n",
       "  </thead>\n",
       "  <tbody>\n",
       "    <tr>\n",
       "      <th>-9223121837663643404</th>\n",
       "      <td>0.0</td>\n",
       "      <td>0.0</td>\n",
       "      <td>0.0</td>\n",
       "      <td>0.0</td>\n",
       "      <td>0.0</td>\n",
       "      <td>0.0</td>\n",
       "      <td>0.0</td>\n",
       "      <td>0.0</td>\n",
       "      <td>0.0</td>\n",
       "      <td>0.0</td>\n",
       "      <td>...</td>\n",
       "      <td>0.0</td>\n",
       "      <td>0.0</td>\n",
       "      <td>0.0</td>\n",
       "      <td>0.0</td>\n",
       "      <td>0.0</td>\n",
       "      <td>0.0</td>\n",
       "      <td>0.0</td>\n",
       "      <td>0.0</td>\n",
       "      <td>0.0</td>\n",
       "      <td>0.0</td>\n",
       "    </tr>\n",
       "    <tr>\n",
       "      <th>-9212075797126931087</th>\n",
       "      <td>0.0</td>\n",
       "      <td>0.0</td>\n",
       "      <td>0.0</td>\n",
       "      <td>0.0</td>\n",
       "      <td>0.0</td>\n",
       "      <td>0.0</td>\n",
       "      <td>0.0</td>\n",
       "      <td>0.0</td>\n",
       "      <td>0.0</td>\n",
       "      <td>0.0</td>\n",
       "      <td>...</td>\n",
       "      <td>0.0</td>\n",
       "      <td>0.0</td>\n",
       "      <td>0.0</td>\n",
       "      <td>0.0</td>\n",
       "      <td>0.0</td>\n",
       "      <td>0.0</td>\n",
       "      <td>0.0</td>\n",
       "      <td>0.0</td>\n",
       "      <td>0.0</td>\n",
       "      <td>0.0</td>\n",
       "    </tr>\n",
       "    <tr>\n",
       "      <th>-9207251133131336884</th>\n",
       "      <td>0.0</td>\n",
       "      <td>3.0</td>\n",
       "      <td>0.0</td>\n",
       "      <td>0.0</td>\n",
       "      <td>0.0</td>\n",
       "      <td>0.0</td>\n",
       "      <td>0.0</td>\n",
       "      <td>0.0</td>\n",
       "      <td>0.0</td>\n",
       "      <td>0.0</td>\n",
       "      <td>...</td>\n",
       "      <td>0.0</td>\n",
       "      <td>0.0</td>\n",
       "      <td>0.0</td>\n",
       "      <td>0.0</td>\n",
       "      <td>0.0</td>\n",
       "      <td>0.0</td>\n",
       "      <td>0.0</td>\n",
       "      <td>0.0</td>\n",
       "      <td>0.0</td>\n",
       "      <td>0.0</td>\n",
       "    </tr>\n",
       "    <tr>\n",
       "      <th>-9199575329909162940</th>\n",
       "      <td>0.0</td>\n",
       "      <td>0.0</td>\n",
       "      <td>0.0</td>\n",
       "      <td>0.0</td>\n",
       "      <td>0.0</td>\n",
       "      <td>0.0</td>\n",
       "      <td>0.0</td>\n",
       "      <td>0.0</td>\n",
       "      <td>0.0</td>\n",
       "      <td>0.0</td>\n",
       "      <td>...</td>\n",
       "      <td>0.0</td>\n",
       "      <td>0.0</td>\n",
       "      <td>0.0</td>\n",
       "      <td>0.0</td>\n",
       "      <td>0.0</td>\n",
       "      <td>0.0</td>\n",
       "      <td>0.0</td>\n",
       "      <td>0.0</td>\n",
       "      <td>0.0</td>\n",
       "      <td>0.0</td>\n",
       "    </tr>\n",
       "    <tr>\n",
       "      <th>-9196668942822132778</th>\n",
       "      <td>0.0</td>\n",
       "      <td>0.0</td>\n",
       "      <td>0.0</td>\n",
       "      <td>0.0</td>\n",
       "      <td>0.0</td>\n",
       "      <td>0.0</td>\n",
       "      <td>0.0</td>\n",
       "      <td>0.0</td>\n",
       "      <td>0.0</td>\n",
       "      <td>0.0</td>\n",
       "      <td>...</td>\n",
       "      <td>0.0</td>\n",
       "      <td>0.0</td>\n",
       "      <td>0.0</td>\n",
       "      <td>0.0</td>\n",
       "      <td>0.0</td>\n",
       "      <td>0.0</td>\n",
       "      <td>0.0</td>\n",
       "      <td>0.0</td>\n",
       "      <td>0.0</td>\n",
       "      <td>0.0</td>\n",
       "    </tr>\n",
       "    <tr>\n",
       "      <th>-9188188261933657343</th>\n",
       "      <td>0.0</td>\n",
       "      <td>0.0</td>\n",
       "      <td>0.0</td>\n",
       "      <td>0.0</td>\n",
       "      <td>0.0</td>\n",
       "      <td>0.0</td>\n",
       "      <td>0.0</td>\n",
       "      <td>0.0</td>\n",
       "      <td>0.0</td>\n",
       "      <td>0.0</td>\n",
       "      <td>...</td>\n",
       "      <td>0.0</td>\n",
       "      <td>0.0</td>\n",
       "      <td>0.0</td>\n",
       "      <td>0.0</td>\n",
       "      <td>0.0</td>\n",
       "      <td>0.0</td>\n",
       "      <td>0.0</td>\n",
       "      <td>0.0</td>\n",
       "      <td>0.0</td>\n",
       "      <td>0.0</td>\n",
       "    </tr>\n",
       "    <tr>\n",
       "      <th>-9172914609055320039</th>\n",
       "      <td>0.0</td>\n",
       "      <td>0.0</td>\n",
       "      <td>0.0</td>\n",
       "      <td>0.0</td>\n",
       "      <td>0.0</td>\n",
       "      <td>0.0</td>\n",
       "      <td>0.0</td>\n",
       "      <td>0.0</td>\n",
       "      <td>0.0</td>\n",
       "      <td>0.0</td>\n",
       "      <td>...</td>\n",
       "      <td>0.0</td>\n",
       "      <td>0.0</td>\n",
       "      <td>0.0</td>\n",
       "      <td>0.0</td>\n",
       "      <td>0.0</td>\n",
       "      <td>0.0</td>\n",
       "      <td>0.0</td>\n",
       "      <td>0.0</td>\n",
       "      <td>0.0</td>\n",
       "      <td>0.0</td>\n",
       "    </tr>\n",
       "    <tr>\n",
       "      <th>-9156344805277471150</th>\n",
       "      <td>0.0</td>\n",
       "      <td>0.0</td>\n",
       "      <td>0.0</td>\n",
       "      <td>0.0</td>\n",
       "      <td>0.0</td>\n",
       "      <td>0.0</td>\n",
       "      <td>0.0</td>\n",
       "      <td>0.0</td>\n",
       "      <td>0.0</td>\n",
       "      <td>0.0</td>\n",
       "      <td>...</td>\n",
       "      <td>0.0</td>\n",
       "      <td>0.0</td>\n",
       "      <td>0.0</td>\n",
       "      <td>0.0</td>\n",
       "      <td>0.0</td>\n",
       "      <td>0.0</td>\n",
       "      <td>0.0</td>\n",
       "      <td>0.0</td>\n",
       "      <td>0.0</td>\n",
       "      <td>0.0</td>\n",
       "    </tr>\n",
       "    <tr>\n",
       "      <th>-9120685872592674274</th>\n",
       "      <td>0.0</td>\n",
       "      <td>0.0</td>\n",
       "      <td>0.0</td>\n",
       "      <td>0.0</td>\n",
       "      <td>0.0</td>\n",
       "      <td>0.0</td>\n",
       "      <td>0.0</td>\n",
       "      <td>0.0</td>\n",
       "      <td>0.0</td>\n",
       "      <td>0.0</td>\n",
       "      <td>...</td>\n",
       "      <td>0.0</td>\n",
       "      <td>0.0</td>\n",
       "      <td>0.0</td>\n",
       "      <td>0.0</td>\n",
       "      <td>0.0</td>\n",
       "      <td>0.0</td>\n",
       "      <td>0.0</td>\n",
       "      <td>0.0</td>\n",
       "      <td>0.0</td>\n",
       "      <td>0.0</td>\n",
       "    </tr>\n",
       "    <tr>\n",
       "      <th>-9109785559521267180</th>\n",
       "      <td>0.0</td>\n",
       "      <td>0.0</td>\n",
       "      <td>0.0</td>\n",
       "      <td>0.0</td>\n",
       "      <td>0.0</td>\n",
       "      <td>0.0</td>\n",
       "      <td>0.0</td>\n",
       "      <td>0.0</td>\n",
       "      <td>0.0</td>\n",
       "      <td>0.0</td>\n",
       "      <td>...</td>\n",
       "      <td>0.0</td>\n",
       "      <td>0.0</td>\n",
       "      <td>0.0</td>\n",
       "      <td>0.0</td>\n",
       "      <td>0.0</td>\n",
       "      <td>0.0</td>\n",
       "      <td>0.0</td>\n",
       "      <td>0.0</td>\n",
       "      <td>0.0</td>\n",
       "      <td>0.0</td>\n",
       "    </tr>\n",
       "  </tbody>\n",
       "</table>\n",
       "<p>10 rows × 2926 columns</p>\n",
       "</div>"
      ],
      "text/plain": [
       "contentId             -9222795471790223670  -9216926795620865886  \\\n",
       "personId                                                           \n",
       "-9223121837663643404                   0.0                   0.0   \n",
       "-9212075797126931087                   0.0                   0.0   \n",
       "-9207251133131336884                   0.0                   3.0   \n",
       "-9199575329909162940                   0.0                   0.0   \n",
       "-9196668942822132778                   0.0                   0.0   \n",
       "-9188188261933657343                   0.0                   0.0   \n",
       "-9172914609055320039                   0.0                   0.0   \n",
       "-9156344805277471150                   0.0                   0.0   \n",
       "-9120685872592674274                   0.0                   0.0   \n",
       "-9109785559521267180                   0.0                   0.0   \n",
       "\n",
       "contentId             -9194572880052200111  -9192549002213406534  \\\n",
       "personId                                                           \n",
       "-9223121837663643404                   0.0                   0.0   \n",
       "-9212075797126931087                   0.0                   0.0   \n",
       "-9207251133131336884                   0.0                   0.0   \n",
       "-9199575329909162940                   0.0                   0.0   \n",
       "-9196668942822132778                   0.0                   0.0   \n",
       "-9188188261933657343                   0.0                   0.0   \n",
       "-9172914609055320039                   0.0                   0.0   \n",
       "-9156344805277471150                   0.0                   0.0   \n",
       "-9120685872592674274                   0.0                   0.0   \n",
       "-9109785559521267180                   0.0                   0.0   \n",
       "\n",
       "contentId             -9190737901804729417  -9189659052158407108  \\\n",
       "personId                                                           \n",
       "-9223121837663643404                   0.0                   0.0   \n",
       "-9212075797126931087                   0.0                   0.0   \n",
       "-9207251133131336884                   0.0                   0.0   \n",
       "-9199575329909162940                   0.0                   0.0   \n",
       "-9196668942822132778                   0.0                   0.0   \n",
       "-9188188261933657343                   0.0                   0.0   \n",
       "-9172914609055320039                   0.0                   0.0   \n",
       "-9156344805277471150                   0.0                   0.0   \n",
       "-9120685872592674274                   0.0                   0.0   \n",
       "-9109785559521267180                   0.0                   0.0   \n",
       "\n",
       "contentId             -9176143510534135851  -9172673334835262304  \\\n",
       "personId                                                           \n",
       "-9223121837663643404                   0.0                   0.0   \n",
       "-9212075797126931087                   0.0                   0.0   \n",
       "-9207251133131336884                   0.0                   0.0   \n",
       "-9199575329909162940                   0.0                   0.0   \n",
       "-9196668942822132778                   0.0                   0.0   \n",
       "-9188188261933657343                   0.0                   0.0   \n",
       "-9172914609055320039                   0.0                   0.0   \n",
       "-9156344805277471150                   0.0                   0.0   \n",
       "-9120685872592674274                   0.0                   0.0   \n",
       "-9109785559521267180                   0.0                   0.0   \n",
       "\n",
       "contentId             -9171475473795142532  -9166778629773133902  ...  \\\n",
       "personId                                                          ...   \n",
       "-9223121837663643404                   0.0                   0.0  ...   \n",
       "-9212075797126931087                   0.0                   0.0  ...   \n",
       "-9207251133131336884                   0.0                   0.0  ...   \n",
       "-9199575329909162940                   0.0                   0.0  ...   \n",
       "-9196668942822132778                   0.0                   0.0  ...   \n",
       "-9188188261933657343                   0.0                   0.0  ...   \n",
       "-9172914609055320039                   0.0                   0.0  ...   \n",
       "-9156344805277471150                   0.0                   0.0  ...   \n",
       "-9120685872592674274                   0.0                   0.0  ...   \n",
       "-9109785559521267180                   0.0                   0.0  ...   \n",
       "\n",
       "contentId              9191014301634017491   9207286802575546269  \\\n",
       "personId                                                           \n",
       "-9223121837663643404                   0.0                   0.0   \n",
       "-9212075797126931087                   0.0                   0.0   \n",
       "-9207251133131336884                   0.0                   0.0   \n",
       "-9199575329909162940                   0.0                   0.0   \n",
       "-9196668942822132778                   0.0                   0.0   \n",
       "-9188188261933657343                   0.0                   0.0   \n",
       "-9172914609055320039                   0.0                   0.0   \n",
       "-9156344805277471150                   0.0                   0.0   \n",
       "-9120685872592674274                   0.0                   0.0   \n",
       "-9109785559521267180                   0.0                   0.0   \n",
       "\n",
       "contentId              9208127165664287660   9209629151177723638  \\\n",
       "personId                                                           \n",
       "-9223121837663643404                   0.0                   0.0   \n",
       "-9212075797126931087                   0.0                   0.0   \n",
       "-9207251133131336884                   0.0                   0.0   \n",
       "-9199575329909162940                   0.0                   0.0   \n",
       "-9196668942822132778                   0.0                   0.0   \n",
       "-9188188261933657343                   0.0                   0.0   \n",
       "-9172914609055320039                   0.0                   0.0   \n",
       "-9156344805277471150                   0.0                   0.0   \n",
       "-9120685872592674274                   0.0                   0.0   \n",
       "-9109785559521267180                   0.0                   0.0   \n",
       "\n",
       "contentId              9209886322932807692   9213260650272029784  \\\n",
       "personId                                                           \n",
       "-9223121837663643404                   0.0                   0.0   \n",
       "-9212075797126931087                   0.0                   0.0   \n",
       "-9207251133131336884                   0.0                   0.0   \n",
       "-9199575329909162940                   0.0                   0.0   \n",
       "-9196668942822132778                   0.0                   0.0   \n",
       "-9188188261933657343                   0.0                   0.0   \n",
       "-9172914609055320039                   0.0                   0.0   \n",
       "-9156344805277471150                   0.0                   0.0   \n",
       "-9120685872592674274                   0.0                   0.0   \n",
       "-9109785559521267180                   0.0                   0.0   \n",
       "\n",
       "contentId              9215261273565326920   9217155070834564627  \\\n",
       "personId                                                           \n",
       "-9223121837663643404                   0.0                   0.0   \n",
       "-9212075797126931087                   0.0                   0.0   \n",
       "-9207251133131336884                   0.0                   0.0   \n",
       "-9199575329909162940                   0.0                   0.0   \n",
       "-9196668942822132778                   0.0                   0.0   \n",
       "-9188188261933657343                   0.0                   0.0   \n",
       "-9172914609055320039                   0.0                   0.0   \n",
       "-9156344805277471150                   0.0                   0.0   \n",
       "-9120685872592674274                   0.0                   0.0   \n",
       "-9109785559521267180                   0.0                   0.0   \n",
       "\n",
       "contentId              9220445660318725468   9222265156747237864  \n",
       "personId                                                          \n",
       "-9223121837663643404                   0.0                   0.0  \n",
       "-9212075797126931087                   0.0                   0.0  \n",
       "-9207251133131336884                   0.0                   0.0  \n",
       "-9199575329909162940                   0.0                   0.0  \n",
       "-9196668942822132778                   0.0                   0.0  \n",
       "-9188188261933657343                   0.0                   0.0  \n",
       "-9172914609055320039                   0.0                   0.0  \n",
       "-9156344805277471150                   0.0                   0.0  \n",
       "-9120685872592674274                   0.0                   0.0  \n",
       "-9109785559521267180                   0.0                   0.0  \n",
       "\n",
       "[10 rows x 2926 columns]"
      ]
     },
     "execution_count": 46,
     "metadata": {},
     "output_type": "execute_result"
    }
   ],
   "source": [
    "#Creating a sparse pivot table with users in rows and items in columns\n",
    "df_users_items_pivot_matrix = df_train_interactions.pivot(index='personId', \n",
    "                                                          columns='contentId', \n",
    "                                                          values='eventStrength').fillna(0)\n",
    "\n",
    "df_users_items_pivot_matrix.head(10)"
   ]
  },
  {
   "cell_type": "code",
   "execution_count": 47,
   "metadata": {},
   "outputs": [
    {
     "data": {
      "text/plain": [
       "NearestNeighbors(algorithm='brute', leaf_size=30, metric='cosine',\n",
       "                 metric_params=None, n_jobs=None, n_neighbors=5, p=2,\n",
       "                 radius=1.0)"
      ]
     },
     "execution_count": 47,
     "metadata": {},
     "output_type": "execute_result"
    }
   ],
   "source": [
    "from scipy.sparse import csr_matrix\n",
    "\n",
    "df_to_csr_matrix = csr_matrix(df_users_items_pivot_matrix.values)\n",
    "\n",
    "from sklearn.neighbors import NearestNeighbors\n",
    "\n",
    "\n",
    "model_knn = NearestNeighbors(metric = 'cosine', algorithm = 'brute')\n",
    "model_knn.fit(df_to_csr_matrix)"
   ]
  },
  {
   "cell_type": "code",
   "execution_count": 52,
   "metadata": {},
   "outputs": [
    {
     "name": "stdout",
     "output_type": "stream",
     "text": [
      "855\n"
     ]
    }
   ],
   "source": [
    "query_index = np.random.choice(df_users_items_pivot_matrix.shape[0])\n",
    "print(query_index)\n",
    "distances, indices = model_knn.kneighbors(df_users_items_pivot_matrix.iloc[query_index,:].values.reshape(1, -1), n_neighbors = 10)"
   ]
  },
  {
   "cell_type": "code",
   "execution_count": 62,
   "metadata": {},
   "outputs": [
    {
     "name": "stdout",
     "output_type": "stream",
     "text": [
      "Recommendations for 4795304184119033503:\n",
      "\n",
      "1: 8813266398846460512, with distance of 0.8226402204801077:\n",
      "2: 1097401149118884075, with distance of 0.8210835074823184:\n",
      "3: 6767912612638555664, with distance of 0.8195192810788916:\n",
      "4: 899165159624701221, with distance of 0.8062877650548972:\n",
      "5: -3390049372067052505, with distance of 0.8058393618540216:\n",
      "6: -3325508780389598615, with distance of 0.8022932781043189:\n",
      "7: 1929981821863611546, with distance of 0.8010202017055924:\n",
      "8: -48161796606086482, with distance of 0.7983350149053692:\n",
      "9: -9207251133131336884, with distance of 0.7818397866707592:\n",
      "10: 1895326251577378793, with distance of 0.7813001183992603:\n",
      "11: -1032019229384696495, with distance of 0.7797297249373938:\n",
      "12: 3276989273780561693, with distance of 0.7499185800336661:\n",
      "13: -5868110530814399805, with distance of 0.7451619458554203:\n",
      "14: -8854674432071487111, with distance of 0.7415101454065283:\n",
      "15: 1120069409160402054, with distance of 0.7144566297624038:\n",
      "16: 3631158903888752348, with distance of 0.7109575234461314:\n",
      "17: -376778416081419926, with distance of 0.6848650101745188:\n",
      "18: 8759620187357735368, with distance of 0.6579488047776064:\n",
      "19: 8261378399174507610, with distance of 0.6480625981038386:\n",
      "20: 22763587941636338, with distance of 0.6189046704387735:\n",
      "21: 2828232395245246552, with distance of 0.5961340158662698:\n",
      "22: 268671367195911338, with distance of 0.5842067067530478:\n",
      "23: -5708042355439521851, with distance of 0.5642808061737287:\n",
      "24: 3262617661597841651, with distance of 0.5630417581584608:\n"
     ]
    }
   ],
   "source": [
    "for i in range(0, len(distances.flatten())):\n",
    "    if i == 0:\n",
    "        print('Recommendations for {0}:\\n'.format(df_users_items_pivot_matrix.index[query_index]))\n",
    "    else:\n",
    "        print('{0}: {1}, with distance of {2}:'.format(i, df_users_items_pivot_matrix.index[indices.flatten()[len(distances.flatten()) - i]], distances.flatten()[len(distances.flatten()) - i]))"
   ]
  },
  {
   "cell_type": "markdown",
   "metadata": {},
   "source": [
    "# Pearson Correlation\n"
   ]
  },
  {
   "cell_type": "code",
   "execution_count": 112,
   "metadata": {},
   "outputs": [],
   "source": [
    "query = ?"
   ]
  },
  {
   "cell_type": "code",
   "execution_count": 113,
   "metadata": {},
   "outputs": [
    {
     "data": {
      "text/html": [
       "<div>\n",
       "<style scoped>\n",
       "    .dataframe tbody tr th:only-of-type {\n",
       "        vertical-align: middle;\n",
       "    }\n",
       "\n",
       "    .dataframe tbody tr th {\n",
       "        vertical-align: top;\n",
       "    }\n",
       "\n",
       "    .dataframe thead th {\n",
       "        text-align: right;\n",
       "    }\n",
       "</style>\n",
       "<table border=\"1\" class=\"dataframe\">\n",
       "  <thead>\n",
       "    <tr style=\"text-align: right;\">\n",
       "      <th></th>\n",
       "      <th>pearsonR</th>\n",
       "    </tr>\n",
       "    <tr>\n",
       "      <th>contentId</th>\n",
       "      <th></th>\n",
       "    </tr>\n",
       "  </thead>\n",
       "  <tbody>\n",
       "    <tr>\n",
       "      <th>-9222795471790223670</th>\n",
       "      <td>1.000000</td>\n",
       "    </tr>\n",
       "    <tr>\n",
       "      <th>-7174595923544719736</th>\n",
       "      <td>0.916198</td>\n",
       "    </tr>\n",
       "    <tr>\n",
       "      <th>6519443272707698315</th>\n",
       "      <td>0.766385</td>\n",
       "    </tr>\n",
       "    <tr>\n",
       "      <th>5152069678055228801</th>\n",
       "      <td>0.739172</td>\n",
       "    </tr>\n",
       "    <tr>\n",
       "      <th>8871666435351703640</th>\n",
       "      <td>0.702023</td>\n",
       "    </tr>\n",
       "    <tr>\n",
       "      <th>-1737937277055036780</th>\n",
       "      <td>0.702023</td>\n",
       "    </tr>\n",
       "    <tr>\n",
       "      <th>-7454907763335725103</th>\n",
       "      <td>0.702023</td>\n",
       "    </tr>\n",
       "    <tr>\n",
       "      <th>3465127447598546258</th>\n",
       "      <td>0.702023</td>\n",
       "    </tr>\n",
       "    <tr>\n",
       "      <th>3218993154926038233</th>\n",
       "      <td>0.702023</td>\n",
       "    </tr>\n",
       "    <tr>\n",
       "      <th>1362723651715193305</th>\n",
       "      <td>0.702023</td>\n",
       "    </tr>\n",
       "  </tbody>\n",
       "</table>\n",
       "</div>"
      ],
      "text/plain": [
       "                      pearsonR\n",
       "contentId                     \n",
       "-9222795471790223670  1.000000\n",
       "-7174595923544719736  0.916198\n",
       " 6519443272707698315  0.766385\n",
       " 5152069678055228801  0.739172\n",
       " 8871666435351703640  0.702023\n",
       "-1737937277055036780  0.702023\n",
       "-7454907763335725103  0.702023\n",
       " 3465127447598546258  0.702023\n",
       " 3218993154926038233  0.702023\n",
       " 1362723651715193305  0.702023"
      ]
     },
     "execution_count": 113,
     "metadata": {},
     "output_type": "execute_result"
    }
   ],
   "source": [
    "\n",
    "bones_ratings = df_users_items_pivot_matrix[query]\n",
    "similar_to_bones = df_users_items_pivot_matrix.corrwith(bones_ratings)\n",
    "corr_bones = pd.DataFrame(similar_to_bones, columns=['pearsonR'])\n",
    "corr_bones.dropna(inplace=True)\n",
    "corr_bones.sort_values('pearsonR', ascending=False).head(10)"
   ]
  },
  {
   "cell_type": "code",
   "execution_count": null,
   "metadata": {},
   "outputs": [],
   "source": []
  },
  {
   "cell_type": "code",
   "execution_count": null,
   "metadata": {},
   "outputs": [],
   "source": []
  },
  {
   "cell_type": "code",
   "execution_count": null,
   "metadata": {},
   "outputs": [],
   "source": []
  },
  {
   "cell_type": "code",
   "execution_count": null,
   "metadata": {},
   "outputs": [],
   "source": []
  },
  {
   "cell_type": "code",
   "execution_count": null,
   "metadata": {},
   "outputs": [],
   "source": []
  },
  {
   "cell_type": "code",
   "execution_count": null,
   "metadata": {},
   "outputs": [],
   "source": []
  },
  {
   "cell_type": "code",
   "execution_count": null,
   "metadata": {},
   "outputs": [],
   "source": []
  },
  {
   "cell_type": "code",
   "execution_count": null,
   "metadata": {},
   "outputs": [],
   "source": []
  }
 ],
 "metadata": {
  "kernelspec": {
   "display_name": "Python3.6Test",
   "language": "python",
   "name": "python3.6test"
  },
  "language_info": {
   "codemirror_mode": {
    "name": "ipython",
    "version": 3
   },
   "file_extension": ".py",
   "mimetype": "text/x-python",
   "name": "python",
   "nbconvert_exporter": "python",
   "pygments_lexer": "ipython3",
   "version": "3.6.7"
  }
 },
 "nbformat": 4,
 "nbformat_minor": 2
}
