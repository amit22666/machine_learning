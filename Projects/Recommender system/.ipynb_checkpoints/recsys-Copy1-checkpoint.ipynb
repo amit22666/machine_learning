{
 "cells": [
  {
   "cell_type": "code",
   "execution_count": 1,
   "metadata": {},
   "outputs": [],
   "source": [
    "import pandas as pd\n",
    "import numpy as np\n"
   ]
  },
  {
   "cell_type": "code",
   "execution_count": 2,
   "metadata": {},
   "outputs": [],
   "source": [
    "df_shared_articles = pd.read_csv('shared_articles.csv')"
   ]
  },
  {
   "cell_type": "code",
   "execution_count": 3,
   "metadata": {},
   "outputs": [
    {
     "name": "stdout",
     "output_type": "stream",
     "text": [
      "    timestamp        eventType            contentId       authorPersonId  \\\n",
      "0  1459192779  CONTENT REMOVED -6451309518266745024  4340306774493623681   \n",
      "1  1459193988   CONTENT SHARED -4110354420726924665  4340306774493623681   \n",
      "2  1459194146   CONTENT SHARED -7292285110016212249  4340306774493623681   \n",
      "3  1459194474   CONTENT SHARED -6151852268067518688  3891637997717104548   \n",
      "4  1459194497   CONTENT SHARED  2448026894306402386  4340306774493623681   \n",
      "\n",
      "       authorSessionId authorUserAgent authorRegion authorCountry contentType  \\\n",
      "0  8940341205206233829             NaN          NaN           NaN        HTML   \n",
      "1  8940341205206233829             NaN          NaN           NaN        HTML   \n",
      "2  8940341205206233829             NaN          NaN           NaN        HTML   \n",
      "3 -1457532940883382585             NaN          NaN           NaN        HTML   \n",
      "4  8940341205206233829             NaN          NaN           NaN        HTML   \n",
      "\n",
      "                                                 url  \\\n",
      "0  http://www.nytimes.com/2016/03/28/business/dea...   \n",
      "1  http://www.nytimes.com/2016/03/28/business/dea...   \n",
      "2  http://cointelegraph.com/news/bitcoin-future-w...   \n",
      "3  https://cloudplatform.googleblog.com/2016/03/G...   \n",
      "4  https://bitcoinmagazine.com/articles/ibm-wants...   \n",
      "\n",
      "                                               title  \\\n",
      "0  Ethereum, a Virtual Currency, Enables Transact...   \n",
      "1  Ethereum, a Virtual Currency, Enables Transact...   \n",
      "2  Bitcoin Future: When GBPcoin of Branson Wins O...   \n",
      "3                       Google Data Center 360° Tour   \n",
      "4  IBM Wants to \"Evolve the Internet\" With Blockc...   \n",
      "\n",
      "                                                text lang  \n",
      "0  All of this work is still very early. The firs...   en  \n",
      "1  All of this work is still very early. The firs...   en  \n",
      "2  The alarm clock wakes me at 8:00 with stream o...   en  \n",
      "3  We're excited to share the Google Data Center ...   en  \n",
      "4  The Aite Group projects the blockchain market ...   en  \n"
     ]
    }
   ],
   "source": [
    "print(df_shared_articles.head())"
   ]
  },
  {
   "cell_type": "code",
   "execution_count": 4,
   "metadata": {},
   "outputs": [
    {
     "name": "stdout",
     "output_type": "stream",
     "text": [
      "<class 'pandas.core.frame.DataFrame'>\n",
      "RangeIndex: 3122 entries, 0 to 3121\n",
      "Data columns (total 13 columns):\n",
      "timestamp          3122 non-null int64\n",
      "eventType          3122 non-null object\n",
      "contentId          3122 non-null int64\n",
      "authorPersonId     3122 non-null int64\n",
      "authorSessionId    3122 non-null int64\n",
      "authorUserAgent    680 non-null object\n",
      "authorRegion       680 non-null object\n",
      "authorCountry      680 non-null object\n",
      "contentType        3122 non-null object\n",
      "url                3122 non-null object\n",
      "title              3122 non-null object\n",
      "text               3122 non-null object\n",
      "lang               3122 non-null object\n",
      "dtypes: int64(4), object(9)\n",
      "memory usage: 317.2+ KB\n",
      "None\n"
     ]
    }
   ],
   "source": [
    "print(df_shared_articles.info())"
   ]
  },
  {
   "cell_type": "code",
   "execution_count": 5,
   "metadata": {},
   "outputs": [
    {
     "name": "stdout",
     "output_type": "stream",
     "text": [
      "          timestamp     contentId  authorPersonId  authorSessionId\n",
      "count  3.122000e+03  3.122000e+03    3.122000e+03     3.122000e+03\n",
      "mean   1.468804e+09  3.284110e+16    3.984819e+17     1.976675e+17\n",
      "std    7.571512e+06  5.383734e+18    4.387115e+18     5.403753e+18\n",
      "min    1.459193e+09 -9.222795e+18   -9.120686e+18    -9.212055e+18\n",
      "25%    1.462369e+09 -4.660869e+18   -1.578288e+18    -4.651280e+18\n",
      "50%    1.467136e+09  4.436584e+16   -7.092877e+17     4.154103e+17\n",
      "75%    1.473873e+09  4.745617e+18    3.609194e+18     4.841644e+18\n",
      "max    1.488308e+09  9.222265e+18    9.210531e+18     9.221043e+18\n"
     ]
    }
   ],
   "source": [
    "print(df_shared_articles.describe())"
   ]
  },
  {
   "cell_type": "code",
   "execution_count": 6,
   "metadata": {},
   "outputs": [
    {
     "name": "stdout",
     "output_type": "stream",
     "text": [
      "3122\n"
     ]
    }
   ],
   "source": [
    "print(len(df_shared_articles))"
   ]
  },
  {
   "cell_type": "code",
   "execution_count": 7,
   "metadata": {},
   "outputs": [],
   "source": [
    "content_shared = df_shared_articles[df_shared_articles['eventType'] == 'CONTENT SHARED']\n",
    "content_removed = df_shared_articles[df_shared_articles['eventType'] == 'CONTENT REMOVED']"
   ]
  },
  {
   "cell_type": "code",
   "execution_count": 8,
   "metadata": {},
   "outputs": [
    {
     "name": "stdout",
     "output_type": "stream",
     "text": [
      "97.59769378603458 2.4023062139654066\n"
     ]
    }
   ],
   "source": [
    "print((len(content_shared)/len(df_shared_articles))*100,(len(content_removed)/len(df_shared_articles))*100)"
   ]
  },
  {
   "cell_type": "markdown",
   "metadata": {},
   "source": [
    "# 97.59% data is shared and only 2.40% data was removed"
   ]
  },
  {
   "cell_type": "code",
   "execution_count": 9,
   "metadata": {},
   "outputs": [
    {
     "name": "stdout",
     "output_type": "stream",
     "text": [
      "['en' 'pt' 'es' 'la' 'ja']\n"
     ]
    }
   ],
   "source": [
    "types_lang = df_shared_articles['lang'].unique()\n",
    "print(types_lang)"
   ]
  },
  {
   "cell_type": "code",
   "execution_count": 10,
   "metadata": {},
   "outputs": [],
   "source": [
    "dummy = [0,0,0,0,0]\n",
    "dummy[0] = len(content_shared[content_shared['lang'] == 'en'])\n",
    "dummy[1] = len(content_shared[content_shared['lang'] == 'pt'])\n",
    "dummy[2] = len(content_shared[content_shared['lang'] == 'es']) \n",
    "dummy[3] = len(content_shared[content_shared['lang'] == 'la'])\n",
    "dummy[4] = len(content_shared[content_shared['lang'] == 'ja'])\n",
    "len_content_shared = len(content_shared)       \n",
    "    "
   ]
  },
  {
   "cell_type": "code",
   "execution_count": 11,
   "metadata": {},
   "outputs": [
    {
     "name": "stdout",
     "output_type": "stream",
     "text": [
      "72.56317689530685\n",
      "27.207088939940927\n",
      "0.06563833278634722\n",
      "0.09845749917952085\n",
      "0.06563833278634722\n"
     ]
    }
   ],
   "source": [
    "print(dummy[0]/len_content_shared *100)\n",
    "print(dummy[1]/len_content_shared *100)\n",
    "print(dummy[2]/len_content_shared *100)\n",
    "print(dummy[3]/len_content_shared *100)\n",
    "print(dummy[4]/len_content_shared *100)\n"
   ]
  },
  {
   "cell_type": "markdown",
   "metadata": {},
   "source": [
    "# about 99.7% shared articles belongs to lang as \"en\",\"pt\""
   ]
  },
  {
   "cell_type": "code",
   "execution_count": null,
   "metadata": {},
   "outputs": [],
   "source": []
  },
  {
   "cell_type": "code",
   "execution_count": 12,
   "metadata": {},
   "outputs": [],
   "source": [
    "df_user_interaction = pd.read_csv('users_interactions.csv')"
   ]
  },
  {
   "cell_type": "code",
   "execution_count": 13,
   "metadata": {},
   "outputs": [
    {
     "name": "stdout",
     "output_type": "stream",
     "text": [
      "    timestamp eventType            contentId             personId  \\\n",
      "0  1465413032      VIEW -3499919498720038879 -8845298781299428018   \n",
      "1  1465412560      VIEW  8890720798209849691 -1032019229384696495   \n",
      "2  1465416190      VIEW   310515487419366995 -1130272294246983140   \n",
      "3  1465413895    FOLLOW   310515487419366995   344280948527967603   \n",
      "4  1465412290      VIEW -7820640624231356730  -445337111692715325   \n",
      "\n",
      "             sessionId                                          userAgent  \\\n",
      "0  1264196770339959068                                                NaN   \n",
      "1  3621737643587579081  Mozilla/5.0 (Macintosh; Intel Mac OS X 10_11_2...   \n",
      "2  2631864456530402479                                                NaN   \n",
      "3 -3167637573980064150                                                NaN   \n",
      "4  5611481178424124714                                                NaN   \n",
      "\n",
      "  userRegion userCountry  \n",
      "0        NaN         NaN  \n",
      "1         NY          US  \n",
      "2        NaN         NaN  \n",
      "3        NaN         NaN  \n",
      "4        NaN         NaN  \n"
     ]
    }
   ],
   "source": [
    "print(df_user_interaction.head())"
   ]
  },
  {
   "cell_type": "code",
   "execution_count": 14,
   "metadata": {},
   "outputs": [
    {
     "name": "stdout",
     "output_type": "stream",
     "text": [
      "<class 'pandas.core.frame.DataFrame'>\n",
      "RangeIndex: 72312 entries, 0 to 72311\n",
      "Data columns (total 8 columns):\n",
      "timestamp      72312 non-null int64\n",
      "eventType      72312 non-null object\n",
      "contentId      72312 non-null int64\n",
      "personId       72312 non-null int64\n",
      "sessionId      72312 non-null int64\n",
      "userAgent      56918 non-null object\n",
      "userRegion     56907 non-null object\n",
      "userCountry    56918 non-null object\n",
      "dtypes: int64(4), object(4)\n",
      "memory usage: 4.4+ MB\n",
      "None\n"
     ]
    }
   ],
   "source": [
    "print(df_user_interaction.info())"
   ]
  },
  {
   "cell_type": "code",
   "execution_count": 15,
   "metadata": {},
   "outputs": [
    {
     "data": {
      "text/plain": [
       "array(['VIEW', 'FOLLOW', 'BOOKMARK', 'LIKE', 'COMMENT CREATED'],\n",
       "      dtype=object)"
      ]
     },
     "execution_count": 15,
     "metadata": {},
     "output_type": "execute_result"
    }
   ],
   "source": [
    "df_user_interaction['eventType'].unique()"
   ]
  },
  {
   "cell_type": "code",
   "execution_count": 16,
   "metadata": {},
   "outputs": [],
   "source": [
    "dummy = [0,0,0,0,0]\n",
    "dummy[0] = len(df_user_interaction[df_user_interaction['eventType'] == 'VIEW'])\n",
    "dummy[1] = len(df_user_interaction[df_user_interaction['eventType'] == 'FOLLOW'])\n",
    "dummy[2] = len(df_user_interaction[df_user_interaction['eventType'] == 'BOOKMARK']) \n",
    "dummy[3] = len(df_user_interaction[df_user_interaction['eventType'] == 'LIKE'])\n",
    "dummy[4] = len(df_user_interaction[df_user_interaction['eventType'] == 'COMMENT CREATED'])\n",
    "len_df_user_interactions = len(df_user_interaction)       \n",
    "    "
   ]
  },
  {
   "cell_type": "code",
   "execution_count": 17,
   "metadata": {},
   "outputs": [
    {
     "name": "stdout",
     "output_type": "stream",
     "text": [
      "84.47560570859608\n",
      "1.945735147693329\n",
      "3.4060736807168936\n",
      "7.944739462329904\n",
      "2.2278460006637903\n"
     ]
    }
   ],
   "source": [
    "print(dummy[0]/len_df_user_interactions *100)\n",
    "print(dummy[1]/len_df_user_interactions *100)\n",
    "print(dummy[2]/len_df_user_interactions *100)\n",
    "print(dummy[3]/len_df_user_interactions *100)\n",
    "print(dummy[4]/len_df_user_interactions *100)\n"
   ]
  },
  {
   "cell_type": "markdown",
   "metadata": {},
   "source": [
    "# about 84.4% articles were viewed followed by 15.6% other activities."
   ]
  },
  {
   "cell_type": "code",
   "execution_count": 18,
   "metadata": {},
   "outputs": [],
   "source": [
    "event_type_strength = {\n",
    "   'VIEW': 1.0,\n",
    "   'LIKE': 2.0, \n",
    "   'BOOKMARK': 2.5, \n",
    "   'FOLLOW': 3.0,\n",
    "   'COMMENT CREATED': 4.0,  \n",
    "}"
   ]
  },
  {
   "cell_type": "code",
   "execution_count": 19,
   "metadata": {},
   "outputs": [],
   "source": [
    "df_user_interaction['eventStrength'] = df_user_interaction['eventType'].apply(lambda x: event_type_strength[x])"
   ]
  },
  {
   "cell_type": "code",
   "execution_count": 20,
   "metadata": {},
   "outputs": [
    {
     "name": "stdout",
     "output_type": "stream",
     "text": [
      "1895\n",
      "2987\n",
      "72312\n"
     ]
    }
   ],
   "source": [
    "print(len(df_user_interaction['personId'].unique()))\n",
    "print(len(df_user_interaction['contentId'].unique()))\n",
    "print(len(df_user_interaction['contentId']))"
   ]
  },
  {
   "cell_type": "code",
   "execution_count": 21,
   "metadata": {},
   "outputs": [
    {
     "name": "stdout",
     "output_type": "stream",
     "text": [
      "29.92919317040509\n"
     ]
    }
   ],
   "source": [
    "duplicate_df_user_interaction = df_user_interaction[['contentId','eventStrength']]\n",
    "for_graph = duplicate_df_user_interaction.groupby(['contentId'])['eventStrength'].sum().reset_index()\n",
    "print(for_graph['eventStrength'].mean())\n"
   ]
  },
  {
   "cell_type": "code",
   "execution_count": 22,
   "metadata": {},
   "outputs": [
    {
     "data": {
      "text/plain": [
       "<matplotlib.axes._subplots.AxesSubplot at 0x1e018bd0400>"
      ]
     },
     "execution_count": 22,
     "metadata": {},
     "output_type": "execute_result"
    }
   ],
   "source": [
    "import seaborn as sns\n",
    "x1 = for_graph['contentId']\n",
    "y1 = for_graph['eventStrength']\n",
    "sns.scatterplot(x=x1,y=y1)"
   ]
  },
  {
   "cell_type": "code",
   "execution_count": 23,
   "metadata": {},
   "outputs": [],
   "source": [
    "df_users_interactions_count = df_user_interaction.groupby(['personId', 'contentId']).size().groupby('personId').size()"
   ]
  },
  {
   "cell_type": "code",
   "execution_count": 24,
   "metadata": {},
   "outputs": [],
   "source": [
    "df_users_with_enough_interactions = df_users_interactions_count[df_users_interactions_count >= 5].reset_index()[['personId']]"
   ]
  },
  {
   "cell_type": "code",
   "execution_count": 25,
   "metadata": {},
   "outputs": [],
   "source": [
    "df_interactions_from_selected_users = df_user_interaction.merge(df_users_with_enough_interactions,how = 'right',left_on = 'personId',right_on = 'personId')"
   ]
  },
  {
   "cell_type": "code",
   "execution_count": 26,
   "metadata": {},
   "outputs": [],
   "source": [
    "df_interactions_from_selected_users = df_interactions_from_selected_users[['contentId','personId','eventStrength']]"
   ]
  },
  {
   "cell_type": "code",
   "execution_count": 27,
   "metadata": {},
   "outputs": [
    {
     "name": "stdout",
     "output_type": "stream",
     "text": [
      "                 contentId             personId  eventStrength\n",
      "0     -3499919498720038879 -8845298781299428018            1.0\n",
      "1     -3499919498720038879 -8845298781299428018            1.0\n",
      "2      6437568358552101410 -8845298781299428018            1.0\n",
      "3     -4760639635023250284 -8845298781299428018            1.0\n",
      "4     -6142462826726347616 -8845298781299428018            1.0\n",
      "...                    ...                  ...            ...\n",
      "69863 -1876558460087500339 -9063420486253202900            2.5\n",
      "69864  -912681925384819247 -9063420486253202900            2.5\n",
      "69865 -1419188045265393093 -9063420486253202900            1.0\n",
      "69866 -1419188045265393093 -9063420486253202900            1.0\n",
      "69867 -1419188045265393093 -9063420486253202900            1.0\n",
      "\n",
      "[69868 rows x 3 columns]\n"
     ]
    }
   ],
   "source": [
    "print(df_interactions_from_selected_users)"
   ]
  },
  {
   "cell_type": "code",
   "execution_count": 28,
   "metadata": {},
   "outputs": [],
   "source": [
    "df_final_interactions = df_interactions_from_selected_users.groupby(['personId', 'contentId'])['eventStrength'].sum().reset_index()"
   ]
  },
  {
   "cell_type": "code",
   "execution_count": 29,
   "metadata": {},
   "outputs": [
    {
     "name": "stdout",
     "output_type": "stream",
     "text": [
      "                  personId            contentId  eventStrength\n",
      "0     -9223121837663643404 -8949113594875411859            1.0\n",
      "1     -9223121837663643404 -8377626164558006982            1.0\n",
      "2     -9223121837663643404 -8208801367848627943            1.0\n",
      "3     -9223121837663643404 -8187220755213888616            1.0\n",
      "4     -9223121837663643404 -7423191370472335463            8.0\n",
      "...                    ...                  ...            ...\n",
      "39101  9210530975708218054  8477804012624580461            8.5\n",
      "39102  9210530975708218054  8526042588044002101            1.0\n",
      "39103  9210530975708218054  8856169137131817223            1.0\n",
      "39104  9210530975708218054  8869347744613364434            1.0\n",
      "39105  9210530975708218054  9209886322932807692            1.0\n",
      "\n",
      "[39106 rows x 3 columns]\n"
     ]
    }
   ],
   "source": [
    "print(df_final_interactions)"
   ]
  },
  {
   "cell_type": "code",
   "execution_count": 30,
   "metadata": {},
   "outputs": [
    {
     "name": "stdout",
     "output_type": "stream",
     "text": [
      "1140\n",
      "2984\n"
     ]
    }
   ],
   "source": [
    "print(len(df_final_interactions['personId'].unique()))\n",
    "print(len(df_final_interactions['contentId'].unique()))\n",
    "\n"
   ]
  },
  {
   "cell_type": "markdown",
   "metadata": {},
   "source": [
    "# Train Test split"
   ]
  },
  {
   "cell_type": "code",
   "execution_count": 31,
   "metadata": {},
   "outputs": [
    {
     "name": "stdout",
     "output_type": "stream",
     "text": [
      "# interactions on Train set: 31284\n",
      "# interactions on Test set: 7822\n"
     ]
    }
   ],
   "source": [
    "from sklearn.model_selection import train_test_split\n",
    "df_train_interactions, df_test_interactions = train_test_split(df_final_interactions,\n",
    "                                   stratify=df_final_interactions['personId'], \n",
    "                                   test_size=0.20,\n",
    "                                   random_state=42)\n",
    "\n",
    "print('# interactions on Train set: %d' % len(df_train_interactions))\n",
    "print('# interactions on Test set: %d' % len(df_test_interactions))"
   ]
  },
  {
   "cell_type": "markdown",
   "metadata": {},
   "source": [
    "# popularity model"
   ]
  },
  {
   "cell_type": "code",
   "execution_count": 32,
   "metadata": {},
   "outputs": [
    {
     "data": {
      "text/html": [
       "<div>\n",
       "<style scoped>\n",
       "    .dataframe tbody tr th:only-of-type {\n",
       "        vertical-align: middle;\n",
       "    }\n",
       "\n",
       "    .dataframe tbody tr th {\n",
       "        vertical-align: top;\n",
       "    }\n",
       "\n",
       "    .dataframe thead th {\n",
       "        text-align: right;\n",
       "    }\n",
       "</style>\n",
       "<table border=\"1\" class=\"dataframe\">\n",
       "  <thead>\n",
       "    <tr style=\"text-align: right;\">\n",
       "      <th></th>\n",
       "      <th>contentId</th>\n",
       "      <th>eventStrength</th>\n",
       "    </tr>\n",
       "  </thead>\n",
       "  <tbody>\n",
       "    <tr>\n",
       "      <th>0</th>\n",
       "      <td>-4029704725707465084</td>\n",
       "      <td>457.5</td>\n",
       "    </tr>\n",
       "    <tr>\n",
       "      <th>1</th>\n",
       "      <td>-2358756719610361882</td>\n",
       "      <td>361.0</td>\n",
       "    </tr>\n",
       "    <tr>\n",
       "      <th>2</th>\n",
       "      <td>-6783772548752091658</td>\n",
       "      <td>357.0</td>\n",
       "    </tr>\n",
       "    <tr>\n",
       "      <th>3</th>\n",
       "      <td>8657408509986329668</td>\n",
       "      <td>338.0</td>\n",
       "    </tr>\n",
       "    <tr>\n",
       "      <th>4</th>\n",
       "      <td>-133139342397538859</td>\n",
       "      <td>336.5</td>\n",
       "    </tr>\n",
       "    <tr>\n",
       "      <th>5</th>\n",
       "      <td>-8208801367848627943</td>\n",
       "      <td>327.5</td>\n",
       "    </tr>\n",
       "    <tr>\n",
       "      <th>6</th>\n",
       "      <td>-6843047699859121724</td>\n",
       "      <td>315.0</td>\n",
       "    </tr>\n",
       "    <tr>\n",
       "      <th>7</th>\n",
       "      <td>2581138407738454418</td>\n",
       "      <td>310.0</td>\n",
       "    </tr>\n",
       "    <tr>\n",
       "      <th>8</th>\n",
       "      <td>2857117417189640073</td>\n",
       "      <td>308.5</td>\n",
       "    </tr>\n",
       "    <tr>\n",
       "      <th>9</th>\n",
       "      <td>-1633984990770981161</td>\n",
       "      <td>298.0</td>\n",
       "    </tr>\n",
       "  </tbody>\n",
       "</table>\n",
       "</div>"
      ],
      "text/plain": [
       "             contentId  eventStrength\n",
       "0 -4029704725707465084          457.5\n",
       "1 -2358756719610361882          361.0\n",
       "2 -6783772548752091658          357.0\n",
       "3  8657408509986329668          338.0\n",
       "4  -133139342397538859          336.5\n",
       "5 -8208801367848627943          327.5\n",
       "6 -6843047699859121724          315.0\n",
       "7  2581138407738454418          310.0\n",
       "8  2857117417189640073          308.5\n",
       "9 -1633984990770981161          298.0"
      ]
     },
     "execution_count": 32,
     "metadata": {},
     "output_type": "execute_result"
    }
   ],
   "source": [
    "#Computes the most popular items\n",
    "df_popularity_model = df_final_interactions.groupby('contentId')['eventStrength'].sum().sort_values(ascending=False).reset_index()\n",
    "df_popularity_model.head(10)"
   ]
  },
  {
   "cell_type": "markdown",
   "metadata": {},
   "source": [
    "# content based model"
   ]
  },
  {
   "cell_type": "markdown",
   "metadata": {},
   "source": [
    "# note that tf idf is used on title+text of given data"
   ]
  },
  {
   "cell_type": "code",
   "execution_count": 33,
   "metadata": {},
   "outputs": [],
   "source": [
    "dup_df_shared_articles = df_shared_articles\n",
    "dup_df_shared_articles['title_and_text'] = df_shared_articles['title'] + \" \" + df_shared_articles['text']\n"
   ]
  },
  {
   "cell_type": "code",
   "execution_count": 34,
   "metadata": {},
   "outputs": [],
   "source": [
    "from nltk.corpus import stopwords\n",
    "from sklearn.feature_extraction.text import TfidfVectorizer\n",
    "stopwords_list = stopwords.words('english') + stopwords.words('portuguese')\n",
    "vectorizer = TfidfVectorizer(analyzer='word',\n",
    "                     token_pattern=r'\\w{1,}',\n",
    "                     ngram_range=(1, 2),\n",
    "                     min_df=0.003,\n",
    "                     max_df=0.5,\n",
    "                     max_features=5000,\n",
    "                     stop_words=stopwords_list)\n",
    "tfidf_matrix = vectorizer.fit_transform((dup_df_shared_articles['title_and_text']).str.lower())\n"
   ]
  },
  {
   "cell_type": "code",
   "execution_count": 35,
   "metadata": {},
   "outputs": [
    {
     "name": "stdout",
     "output_type": "stream",
     "text": [
      "3122\n",
      "(3122, 5000)\n",
      "<class 'scipy.sparse.csr.csr_matrix'>\n"
     ]
    }
   ],
   "source": [
    "print(len(dup_df_shared_articles['title_and_text']))\n",
    "print(tfidf_matrix.shape)\n",
    "print(type(tfidf_matrix))\n",
    "#print(tfidf_matrix)"
   ]
  },
  {
   "cell_type": "code",
   "execution_count": 36,
   "metadata": {},
   "outputs": [
    {
     "name": "stdout",
     "output_type": "stream",
     "text": [
      "  (0, 16)\t0.023412764268819004\n",
      "  (0, 948)\t0.02354951449797743\n",
      "  (0, 368)\t0.02104876375343444\n",
      "  (0, 4204)\t0.022492824577581432\n",
      "  (0, 4186)\t0.029546127991827605\n",
      "  (0, 4972)\t0.023762037789310526\n",
      "  (0, 2528)\t0.04682552853763801\n",
      "  (0, 2721)\t0.023345787838616357\n",
      "  (0, 2394)\t0.02272182827159206\n",
      "  (0, 3721)\t0.0204968448625716\n",
      "  (0, 2529)\t0.01745237523818198\n",
      "  (0, 334)\t0.014775675894734566\n",
      "  (0, 153)\t0.018095378123662804\n",
      "  (0, 1307)\t0.01710337696674317\n",
      "  (0, 1249)\t0.02383496788887259\n",
      "  (0, 4973)\t0.011886073287213132\n",
      "  (0, 14)\t0.012118475456803652\n",
      "  (0, 2610)\t0.014361948784163242\n",
      "  (0, 1885)\t0.022663570885372627\n",
      "  (0, 29)\t0.010543414090243975\n",
      "  (0, 736)\t0.019280463538296252\n",
      "  (0, 3531)\t0.015201885597581028\n",
      "  (0, 4513)\t0.013663230680366978\n",
      "  (0, 4396)\t0.01371938366583984\n",
      "  (0, 711)\t0.024378177352018415\n",
      "  :\t:\n",
      "  (0, 4014)\t0.016262339249444705\n",
      "  (0, 3964)\t0.04006977097971936\n",
      "  (0, 2748)\t0.059069407987017646\n",
      "  (0, 3535)\t0.04415307897058428\n",
      "  (0, 2569)\t0.02104876375343444\n",
      "  (0, 4465)\t0.016588464548583457\n",
      "  (0, 1736)\t0.035919765285833384\n",
      "  (0, 1091)\t0.031497527772580226\n",
      "  (0, 4410)\t0.1319734320193728\n",
      "  (0, 3800)\t0.05309877485439834\n",
      "  (0, 3743)\t0.045643866581318276\n",
      "  (0, 4203)\t0.059658421289101635\n",
      "  (0, 4803)\t0.028469809056969265\n",
      "  (0, 3624)\t0.03191296729480754\n",
      "  (0, 1942)\t0.013480549544539339\n",
      "  (0, 1859)\t0.01923763927244998\n",
      "  (0, 1441)\t0.014683228263545033\n",
      "  (0, 4322)\t0.03329026757227297\n",
      "  (0, 4935)\t0.019853968189361276\n",
      "  (0, 551)\t0.36920653436183937\n",
      "  (0, 4604)\t0.041068559921419744\n",
      "  (0, 1514)\t0.03861935682294857\n",
      "  (0, 1146)\t0.09184802882764191\n",
      "  (0, 4821)\t0.050280012789138115\n",
      "  (0, 1613)\t0.6964473824224116\n"
     ]
    }
   ],
   "source": [
    "print(tfidf_matrix[0])"
   ]
  },
  {
   "cell_type": "code",
   "execution_count": 37,
   "metadata": {},
   "outputs": [],
   "source": [
    "tfidf_feature_names = vectorizer.get_feature_names()"
   ]
  },
  {
   "cell_type": "code",
   "execution_count": 38,
   "metadata": {},
   "outputs": [
    {
     "name": "stdout",
     "output_type": "stream",
     "text": [
      "5000\n"
     ]
    }
   ],
   "source": [
    "print(len(tfidf_feature_names))"
   ]
  },
  {
   "cell_type": "code",
   "execution_count": 39,
   "metadata": {},
   "outputs": [],
   "source": [
    "from sklearn.metrics.pairwise import cosine_similarity\n",
    "from sklearn.metrics.pairwise import sigmoid_kernel"
   ]
  },
  {
   "cell_type": "code",
   "execution_count": 40,
   "metadata": {},
   "outputs": [],
   "source": [
    "sigmoid_kernel_output = sigmoid_kernel(tfidf_matrix,tfidf_matrix)"
   ]
  },
  {
   "cell_type": "code",
   "execution_count": 41,
   "metadata": {},
   "outputs": [
    {
     "name": "stdout",
     "output_type": "stream",
     "text": [
      "<class 'numpy.ndarray'>\n",
      "(3122, 3122)\n"
     ]
    }
   ],
   "source": [
    "print(type(sigmoid_kernel_output))\n",
    "print(sigmoid_kernel_output.shape)\n"
   ]
  },
  {
   "cell_type": "code",
   "execution_count": 42,
   "metadata": {},
   "outputs": [
    {
     "name": "stdout",
     "output_type": "stream",
     "text": [
      "[0.76167814 0.76167814 0.76160088 ... 0.76159991 0.76160459 0.76159557]\n"
     ]
    }
   ],
   "source": [
    "print(sigmoid_kernel_output[0])"
   ]
  },
  {
   "cell_type": "code",
   "execution_count": 43,
   "metadata": {},
   "outputs": [],
   "source": [
    "dic_dup_df_shared_articles = dup_df_shared_articles['title_and_text'].to_dict()"
   ]
  },
  {
   "cell_type": "code",
   "execution_count": 44,
   "metadata": {},
   "outputs": [],
   "source": [
    "key_list = list(dic_dup_df_shared_articles.keys()) \n",
    "val_list = list(dic_dup_df_shared_articles.values()) "
   ]
  },
  {
   "cell_type": "code",
   "execution_count": 45,
   "metadata": {},
   "outputs": [],
   "source": [
    "def gives_results(input_,sigmoid_kernel_output):\n",
    "    index = key_list[val_list.index(input_)]\n",
    "    content_sigmoid_output = list(enumerate(sigmoid_kernel_output[index]))\n",
    "    content_sigmoid_output1 = sorted(content_sigmoid_output, key=lambda x: x[1], reverse=True)\n",
    "    final_content_sigmoid_output1 = content_sigmoid_output1[1:11]\n",
    "    index_final_output = [i[0] for i in final_content_sigmoid_output1]\n",
    "    return df_shared_articles['title'].iloc[index_final_output]\n",
    "    \n",
    " "
   ]
  },
  {
   "cell_type": "markdown",
   "metadata": {},
   "source": [
    "# note the input given in this function is title+text"
   ]
  },
  {
   "cell_type": "code",
   "execution_count": 46,
   "metadata": {},
   "outputs": [
    {
     "ename": "NameError",
     "evalue": "name 'input_' is not defined",
     "output_type": "error",
     "traceback": [
      "\u001b[1;31m---------------------------------------------------------------------------\u001b[0m",
      "\u001b[1;31mNameError\u001b[0m                                 Traceback (most recent call last)",
      "\u001b[1;32m<ipython-input-46-7fe6be3cbf59>\u001b[0m in \u001b[0;36m<module>\u001b[1;34m\u001b[0m\n\u001b[1;32m----> 1\u001b[1;33m \u001b[0mcontent_based_10_recommendations\u001b[0m \u001b[1;33m=\u001b[0m \u001b[0mgives_results\u001b[0m\u001b[1;33m(\u001b[0m\u001b[0minput_\u001b[0m\u001b[1;33m,\u001b[0m\u001b[0msigmoid_kernel_output\u001b[0m\u001b[1;33m)\u001b[0m\u001b[1;33m\u001b[0m\u001b[1;33m\u001b[0m\u001b[0m\n\u001b[0m",
      "\u001b[1;31mNameError\u001b[0m: name 'input_' is not defined"
     ]
    }
   ],
   "source": [
    "content_based_10_recommendations = gives_results(input_,sigmoid_kernel_output)"
   ]
  },
  {
   "cell_type": "code",
   "execution_count": null,
   "metadata": {},
   "outputs": [],
   "source": [
    "print(content_based_10_recommendations)"
   ]
  },
  {
   "cell_type": "markdown",
   "metadata": {},
   "source": [
    "# Content Collaborative Filtering"
   ]
  },
  {
   "cell_type": "code",
   "execution_count": 47,
   "metadata": {},
   "outputs": [
    {
     "data": {
      "text/html": [
       "<div>\n",
       "<style scoped>\n",
       "    .dataframe tbody tr th:only-of-type {\n",
       "        vertical-align: middle;\n",
       "    }\n",
       "\n",
       "    .dataframe tbody tr th {\n",
       "        vertical-align: top;\n",
       "    }\n",
       "\n",
       "    .dataframe thead th {\n",
       "        text-align: right;\n",
       "    }\n",
       "</style>\n",
       "<table border=\"1\" class=\"dataframe\">\n",
       "  <thead>\n",
       "    <tr style=\"text-align: right;\">\n",
       "      <th>contentId</th>\n",
       "      <th>-9222795471790223670</th>\n",
       "      <th>-9216926795620865886</th>\n",
       "      <th>-9194572880052200111</th>\n",
       "      <th>-9192549002213406534</th>\n",
       "      <th>-9190737901804729417</th>\n",
       "      <th>-9189659052158407108</th>\n",
       "      <th>-9176143510534135851</th>\n",
       "      <th>-9172673334835262304</th>\n",
       "      <th>-9171475473795142532</th>\n",
       "      <th>-9166778629773133902</th>\n",
       "      <th>...</th>\n",
       "      <th>9191014301634017491</th>\n",
       "      <th>9207286802575546269</th>\n",
       "      <th>9208127165664287660</th>\n",
       "      <th>9209629151177723638</th>\n",
       "      <th>9209886322932807692</th>\n",
       "      <th>9213260650272029784</th>\n",
       "      <th>9215261273565326920</th>\n",
       "      <th>9217155070834564627</th>\n",
       "      <th>9220445660318725468</th>\n",
       "      <th>9222265156747237864</th>\n",
       "    </tr>\n",
       "    <tr>\n",
       "      <th>personId</th>\n",
       "      <th></th>\n",
       "      <th></th>\n",
       "      <th></th>\n",
       "      <th></th>\n",
       "      <th></th>\n",
       "      <th></th>\n",
       "      <th></th>\n",
       "      <th></th>\n",
       "      <th></th>\n",
       "      <th></th>\n",
       "      <th></th>\n",
       "      <th></th>\n",
       "      <th></th>\n",
       "      <th></th>\n",
       "      <th></th>\n",
       "      <th></th>\n",
       "      <th></th>\n",
       "      <th></th>\n",
       "      <th></th>\n",
       "      <th></th>\n",
       "      <th></th>\n",
       "    </tr>\n",
       "  </thead>\n",
       "  <tbody>\n",
       "    <tr>\n",
       "      <th>-9223121837663643404</th>\n",
       "      <td>0.0</td>\n",
       "      <td>0.0</td>\n",
       "      <td>0.0</td>\n",
       "      <td>0.0</td>\n",
       "      <td>0.0</td>\n",
       "      <td>0.0</td>\n",
       "      <td>0.0</td>\n",
       "      <td>0.0</td>\n",
       "      <td>0.0</td>\n",
       "      <td>0.0</td>\n",
       "      <td>...</td>\n",
       "      <td>0.0</td>\n",
       "      <td>0.0</td>\n",
       "      <td>0.0</td>\n",
       "      <td>0.0</td>\n",
       "      <td>0.0</td>\n",
       "      <td>0.0</td>\n",
       "      <td>0.0</td>\n",
       "      <td>0.0</td>\n",
       "      <td>0.0</td>\n",
       "      <td>0.0</td>\n",
       "    </tr>\n",
       "    <tr>\n",
       "      <th>-9212075797126931087</th>\n",
       "      <td>0.0</td>\n",
       "      <td>0.0</td>\n",
       "      <td>0.0</td>\n",
       "      <td>0.0</td>\n",
       "      <td>0.0</td>\n",
       "      <td>0.0</td>\n",
       "      <td>0.0</td>\n",
       "      <td>0.0</td>\n",
       "      <td>0.0</td>\n",
       "      <td>0.0</td>\n",
       "      <td>...</td>\n",
       "      <td>0.0</td>\n",
       "      <td>0.0</td>\n",
       "      <td>0.0</td>\n",
       "      <td>0.0</td>\n",
       "      <td>0.0</td>\n",
       "      <td>0.0</td>\n",
       "      <td>0.0</td>\n",
       "      <td>0.0</td>\n",
       "      <td>0.0</td>\n",
       "      <td>0.0</td>\n",
       "    </tr>\n",
       "    <tr>\n",
       "      <th>-9207251133131336884</th>\n",
       "      <td>0.0</td>\n",
       "      <td>3.0</td>\n",
       "      <td>0.0</td>\n",
       "      <td>0.0</td>\n",
       "      <td>0.0</td>\n",
       "      <td>0.0</td>\n",
       "      <td>0.0</td>\n",
       "      <td>0.0</td>\n",
       "      <td>0.0</td>\n",
       "      <td>0.0</td>\n",
       "      <td>...</td>\n",
       "      <td>0.0</td>\n",
       "      <td>0.0</td>\n",
       "      <td>0.0</td>\n",
       "      <td>0.0</td>\n",
       "      <td>0.0</td>\n",
       "      <td>0.0</td>\n",
       "      <td>0.0</td>\n",
       "      <td>0.0</td>\n",
       "      <td>0.0</td>\n",
       "      <td>0.0</td>\n",
       "    </tr>\n",
       "    <tr>\n",
       "      <th>-9199575329909162940</th>\n",
       "      <td>0.0</td>\n",
       "      <td>0.0</td>\n",
       "      <td>0.0</td>\n",
       "      <td>0.0</td>\n",
       "      <td>0.0</td>\n",
       "      <td>0.0</td>\n",
       "      <td>0.0</td>\n",
       "      <td>0.0</td>\n",
       "      <td>0.0</td>\n",
       "      <td>0.0</td>\n",
       "      <td>...</td>\n",
       "      <td>0.0</td>\n",
       "      <td>0.0</td>\n",
       "      <td>0.0</td>\n",
       "      <td>0.0</td>\n",
       "      <td>0.0</td>\n",
       "      <td>0.0</td>\n",
       "      <td>0.0</td>\n",
       "      <td>0.0</td>\n",
       "      <td>0.0</td>\n",
       "      <td>0.0</td>\n",
       "    </tr>\n",
       "    <tr>\n",
       "      <th>-9196668942822132778</th>\n",
       "      <td>0.0</td>\n",
       "      <td>0.0</td>\n",
       "      <td>0.0</td>\n",
       "      <td>0.0</td>\n",
       "      <td>0.0</td>\n",
       "      <td>0.0</td>\n",
       "      <td>0.0</td>\n",
       "      <td>0.0</td>\n",
       "      <td>0.0</td>\n",
       "      <td>0.0</td>\n",
       "      <td>...</td>\n",
       "      <td>0.0</td>\n",
       "      <td>0.0</td>\n",
       "      <td>0.0</td>\n",
       "      <td>0.0</td>\n",
       "      <td>0.0</td>\n",
       "      <td>0.0</td>\n",
       "      <td>0.0</td>\n",
       "      <td>0.0</td>\n",
       "      <td>0.0</td>\n",
       "      <td>0.0</td>\n",
       "    </tr>\n",
       "    <tr>\n",
       "      <th>-9188188261933657343</th>\n",
       "      <td>0.0</td>\n",
       "      <td>0.0</td>\n",
       "      <td>0.0</td>\n",
       "      <td>0.0</td>\n",
       "      <td>0.0</td>\n",
       "      <td>0.0</td>\n",
       "      <td>0.0</td>\n",
       "      <td>0.0</td>\n",
       "      <td>0.0</td>\n",
       "      <td>0.0</td>\n",
       "      <td>...</td>\n",
       "      <td>0.0</td>\n",
       "      <td>0.0</td>\n",
       "      <td>0.0</td>\n",
       "      <td>0.0</td>\n",
       "      <td>0.0</td>\n",
       "      <td>0.0</td>\n",
       "      <td>0.0</td>\n",
       "      <td>0.0</td>\n",
       "      <td>0.0</td>\n",
       "      <td>0.0</td>\n",
       "    </tr>\n",
       "    <tr>\n",
       "      <th>-9172914609055320039</th>\n",
       "      <td>0.0</td>\n",
       "      <td>0.0</td>\n",
       "      <td>0.0</td>\n",
       "      <td>0.0</td>\n",
       "      <td>0.0</td>\n",
       "      <td>0.0</td>\n",
       "      <td>0.0</td>\n",
       "      <td>0.0</td>\n",
       "      <td>0.0</td>\n",
       "      <td>0.0</td>\n",
       "      <td>...</td>\n",
       "      <td>0.0</td>\n",
       "      <td>0.0</td>\n",
       "      <td>0.0</td>\n",
       "      <td>0.0</td>\n",
       "      <td>0.0</td>\n",
       "      <td>0.0</td>\n",
       "      <td>0.0</td>\n",
       "      <td>0.0</td>\n",
       "      <td>0.0</td>\n",
       "      <td>0.0</td>\n",
       "    </tr>\n",
       "    <tr>\n",
       "      <th>-9156344805277471150</th>\n",
       "      <td>0.0</td>\n",
       "      <td>0.0</td>\n",
       "      <td>0.0</td>\n",
       "      <td>0.0</td>\n",
       "      <td>0.0</td>\n",
       "      <td>0.0</td>\n",
       "      <td>0.0</td>\n",
       "      <td>0.0</td>\n",
       "      <td>0.0</td>\n",
       "      <td>0.0</td>\n",
       "      <td>...</td>\n",
       "      <td>0.0</td>\n",
       "      <td>0.0</td>\n",
       "      <td>0.0</td>\n",
       "      <td>0.0</td>\n",
       "      <td>0.0</td>\n",
       "      <td>0.0</td>\n",
       "      <td>0.0</td>\n",
       "      <td>0.0</td>\n",
       "      <td>0.0</td>\n",
       "      <td>0.0</td>\n",
       "    </tr>\n",
       "    <tr>\n",
       "      <th>-9120685872592674274</th>\n",
       "      <td>0.0</td>\n",
       "      <td>0.0</td>\n",
       "      <td>0.0</td>\n",
       "      <td>0.0</td>\n",
       "      <td>0.0</td>\n",
       "      <td>0.0</td>\n",
       "      <td>0.0</td>\n",
       "      <td>0.0</td>\n",
       "      <td>0.0</td>\n",
       "      <td>0.0</td>\n",
       "      <td>...</td>\n",
       "      <td>0.0</td>\n",
       "      <td>0.0</td>\n",
       "      <td>0.0</td>\n",
       "      <td>0.0</td>\n",
       "      <td>0.0</td>\n",
       "      <td>0.0</td>\n",
       "      <td>0.0</td>\n",
       "      <td>0.0</td>\n",
       "      <td>0.0</td>\n",
       "      <td>0.0</td>\n",
       "    </tr>\n",
       "    <tr>\n",
       "      <th>-9109785559521267180</th>\n",
       "      <td>0.0</td>\n",
       "      <td>0.0</td>\n",
       "      <td>0.0</td>\n",
       "      <td>0.0</td>\n",
       "      <td>0.0</td>\n",
       "      <td>0.0</td>\n",
       "      <td>0.0</td>\n",
       "      <td>0.0</td>\n",
       "      <td>0.0</td>\n",
       "      <td>0.0</td>\n",
       "      <td>...</td>\n",
       "      <td>0.0</td>\n",
       "      <td>0.0</td>\n",
       "      <td>0.0</td>\n",
       "      <td>0.0</td>\n",
       "      <td>0.0</td>\n",
       "      <td>0.0</td>\n",
       "      <td>0.0</td>\n",
       "      <td>0.0</td>\n",
       "      <td>0.0</td>\n",
       "      <td>0.0</td>\n",
       "    </tr>\n",
       "  </tbody>\n",
       "</table>\n",
       "<p>10 rows × 2926 columns</p>\n",
       "</div>"
      ],
      "text/plain": [
       "contentId             -9222795471790223670  -9216926795620865886  \\\n",
       "personId                                                           \n",
       "-9223121837663643404                   0.0                   0.0   \n",
       "-9212075797126931087                   0.0                   0.0   \n",
       "-9207251133131336884                   0.0                   3.0   \n",
       "-9199575329909162940                   0.0                   0.0   \n",
       "-9196668942822132778                   0.0                   0.0   \n",
       "-9188188261933657343                   0.0                   0.0   \n",
       "-9172914609055320039                   0.0                   0.0   \n",
       "-9156344805277471150                   0.0                   0.0   \n",
       "-9120685872592674274                   0.0                   0.0   \n",
       "-9109785559521267180                   0.0                   0.0   \n",
       "\n",
       "contentId             -9194572880052200111  -9192549002213406534  \\\n",
       "personId                                                           \n",
       "-9223121837663643404                   0.0                   0.0   \n",
       "-9212075797126931087                   0.0                   0.0   \n",
       "-9207251133131336884                   0.0                   0.0   \n",
       "-9199575329909162940                   0.0                   0.0   \n",
       "-9196668942822132778                   0.0                   0.0   \n",
       "-9188188261933657343                   0.0                   0.0   \n",
       "-9172914609055320039                   0.0                   0.0   \n",
       "-9156344805277471150                   0.0                   0.0   \n",
       "-9120685872592674274                   0.0                   0.0   \n",
       "-9109785559521267180                   0.0                   0.0   \n",
       "\n",
       "contentId             -9190737901804729417  -9189659052158407108  \\\n",
       "personId                                                           \n",
       "-9223121837663643404                   0.0                   0.0   \n",
       "-9212075797126931087                   0.0                   0.0   \n",
       "-9207251133131336884                   0.0                   0.0   \n",
       "-9199575329909162940                   0.0                   0.0   \n",
       "-9196668942822132778                   0.0                   0.0   \n",
       "-9188188261933657343                   0.0                   0.0   \n",
       "-9172914609055320039                   0.0                   0.0   \n",
       "-9156344805277471150                   0.0                   0.0   \n",
       "-9120685872592674274                   0.0                   0.0   \n",
       "-9109785559521267180                   0.0                   0.0   \n",
       "\n",
       "contentId             -9176143510534135851  -9172673334835262304  \\\n",
       "personId                                                           \n",
       "-9223121837663643404                   0.0                   0.0   \n",
       "-9212075797126931087                   0.0                   0.0   \n",
       "-9207251133131336884                   0.0                   0.0   \n",
       "-9199575329909162940                   0.0                   0.0   \n",
       "-9196668942822132778                   0.0                   0.0   \n",
       "-9188188261933657343                   0.0                   0.0   \n",
       "-9172914609055320039                   0.0                   0.0   \n",
       "-9156344805277471150                   0.0                   0.0   \n",
       "-9120685872592674274                   0.0                   0.0   \n",
       "-9109785559521267180                   0.0                   0.0   \n",
       "\n",
       "contentId             -9171475473795142532  -9166778629773133902  ...  \\\n",
       "personId                                                          ...   \n",
       "-9223121837663643404                   0.0                   0.0  ...   \n",
       "-9212075797126931087                   0.0                   0.0  ...   \n",
       "-9207251133131336884                   0.0                   0.0  ...   \n",
       "-9199575329909162940                   0.0                   0.0  ...   \n",
       "-9196668942822132778                   0.0                   0.0  ...   \n",
       "-9188188261933657343                   0.0                   0.0  ...   \n",
       "-9172914609055320039                   0.0                   0.0  ...   \n",
       "-9156344805277471150                   0.0                   0.0  ...   \n",
       "-9120685872592674274                   0.0                   0.0  ...   \n",
       "-9109785559521267180                   0.0                   0.0  ...   \n",
       "\n",
       "contentId              9191014301634017491   9207286802575546269  \\\n",
       "personId                                                           \n",
       "-9223121837663643404                   0.0                   0.0   \n",
       "-9212075797126931087                   0.0                   0.0   \n",
       "-9207251133131336884                   0.0                   0.0   \n",
       "-9199575329909162940                   0.0                   0.0   \n",
       "-9196668942822132778                   0.0                   0.0   \n",
       "-9188188261933657343                   0.0                   0.0   \n",
       "-9172914609055320039                   0.0                   0.0   \n",
       "-9156344805277471150                   0.0                   0.0   \n",
       "-9120685872592674274                   0.0                   0.0   \n",
       "-9109785559521267180                   0.0                   0.0   \n",
       "\n",
       "contentId              9208127165664287660   9209629151177723638  \\\n",
       "personId                                                           \n",
       "-9223121837663643404                   0.0                   0.0   \n",
       "-9212075797126931087                   0.0                   0.0   \n",
       "-9207251133131336884                   0.0                   0.0   \n",
       "-9199575329909162940                   0.0                   0.0   \n",
       "-9196668942822132778                   0.0                   0.0   \n",
       "-9188188261933657343                   0.0                   0.0   \n",
       "-9172914609055320039                   0.0                   0.0   \n",
       "-9156344805277471150                   0.0                   0.0   \n",
       "-9120685872592674274                   0.0                   0.0   \n",
       "-9109785559521267180                   0.0                   0.0   \n",
       "\n",
       "contentId              9209886322932807692   9213260650272029784  \\\n",
       "personId                                                           \n",
       "-9223121837663643404                   0.0                   0.0   \n",
       "-9212075797126931087                   0.0                   0.0   \n",
       "-9207251133131336884                   0.0                   0.0   \n",
       "-9199575329909162940                   0.0                   0.0   \n",
       "-9196668942822132778                   0.0                   0.0   \n",
       "-9188188261933657343                   0.0                   0.0   \n",
       "-9172914609055320039                   0.0                   0.0   \n",
       "-9156344805277471150                   0.0                   0.0   \n",
       "-9120685872592674274                   0.0                   0.0   \n",
       "-9109785559521267180                   0.0                   0.0   \n",
       "\n",
       "contentId              9215261273565326920   9217155070834564627  \\\n",
       "personId                                                           \n",
       "-9223121837663643404                   0.0                   0.0   \n",
       "-9212075797126931087                   0.0                   0.0   \n",
       "-9207251133131336884                   0.0                   0.0   \n",
       "-9199575329909162940                   0.0                   0.0   \n",
       "-9196668942822132778                   0.0                   0.0   \n",
       "-9188188261933657343                   0.0                   0.0   \n",
       "-9172914609055320039                   0.0                   0.0   \n",
       "-9156344805277471150                   0.0                   0.0   \n",
       "-9120685872592674274                   0.0                   0.0   \n",
       "-9109785559521267180                   0.0                   0.0   \n",
       "\n",
       "contentId              9220445660318725468   9222265156747237864  \n",
       "personId                                                          \n",
       "-9223121837663643404                   0.0                   0.0  \n",
       "-9212075797126931087                   0.0                   0.0  \n",
       "-9207251133131336884                   0.0                   0.0  \n",
       "-9199575329909162940                   0.0                   0.0  \n",
       "-9196668942822132778                   0.0                   0.0  \n",
       "-9188188261933657343                   0.0                   0.0  \n",
       "-9172914609055320039                   0.0                   0.0  \n",
       "-9156344805277471150                   0.0                   0.0  \n",
       "-9120685872592674274                   0.0                   0.0  \n",
       "-9109785559521267180                   0.0                   0.0  \n",
       "\n",
       "[10 rows x 2926 columns]"
      ]
     },
     "execution_count": 47,
     "metadata": {},
     "output_type": "execute_result"
    }
   ],
   "source": [
    "#Creating a sparse pivot table with users in rows and items in columns\n",
    "df_users_items_pivot_matrix = df_train_interactions.pivot(index='personId', \n",
    "                                                          columns='contentId', \n",
    "                                                          values='eventStrength').fillna(0)\n",
    "\n",
    "df_users_items_pivot_matrix.head(10)"
   ]
  },
  {
   "cell_type": "code",
   "execution_count": 48,
   "metadata": {},
   "outputs": [
    {
     "name": "stdout",
     "output_type": "stream",
     "text": [
      "[[0. 0. 0. ... 0. 0. 0.]\n",
      " [0. 0. 0. ... 0. 0. 0.]\n",
      " [0. 3. 0. ... 0. 0. 0.]\n",
      " ...\n",
      " [0. 0. 0. ... 0. 0. 0.]\n",
      " [0. 0. 0. ... 0. 0. 0.]\n",
      " [0. 0. 0. ... 0. 0. 0.]]\n"
     ]
    },
    {
     "name": "stderr",
     "output_type": "stream",
     "text": [
      "C:\\Users\\JAINY\\AppData\\Local\\Programs\\Python\\Python36\\lib\\site-packages\\ipykernel_launcher.py:1: FutureWarning: Method .as_matrix will be removed in a future version. Use .values instead.\n",
      "  \"\"\"Entry point for launching an IPython kernel.\n"
     ]
    }
   ],
   "source": [
    "users_items_pivot_matrix = df_users_items_pivot_matrix.as_matrix()\n",
    "print(users_items_pivot_matrix[:10])"
   ]
  },
  {
   "cell_type": "code",
   "execution_count": 49,
   "metadata": {},
   "outputs": [
    {
     "name": "stdout",
     "output_type": "stream",
     "text": [
      "[-9223121837663643404, -9212075797126931087, -9207251133131336884, -9199575329909162940, -9196668942822132778, -9188188261933657343, -9172914609055320039, -9156344805277471150, -9120685872592674274, -9109785559521267180]\n"
     ]
    }
   ],
   "source": [
    "users_ids = list(df_users_items_pivot_matrix.index)\n",
    "print(users_ids[:10])"
   ]
  },
  {
   "cell_type": "code",
   "execution_count": 50,
   "metadata": {},
   "outputs": [
    {
     "data": {
      "text/plain": [
       "<1140x2926 sparse matrix of type '<class 'numpy.float64'>'\n",
       "\twith 31284 stored elements in Compressed Sparse Row format>"
      ]
     },
     "execution_count": 50,
     "metadata": {},
     "output_type": "execute_result"
    }
   ],
   "source": [
    "from scipy.sparse import csr_matrix\n",
    "users_items_pivot_sparse_matrix = csr_matrix(users_items_pivot_matrix)\n",
    "users_items_pivot_sparse_matrix"
   ]
  },
  {
   "cell_type": "code",
   "execution_count": 51,
   "metadata": {},
   "outputs": [],
   "source": [
    "from scipy.sparse.linalg import svds\n",
    "NUMBER_OF_FACTORS_MF = 15\n",
    "U, sigma, Vt = svds(users_items_pivot_sparse_matrix, k = NUMBER_OF_FACTORS_MF)"
   ]
  },
  {
   "cell_type": "code",
   "execution_count": 52,
   "metadata": {},
   "outputs": [
    {
     "name": "stdout",
     "output_type": "stream",
     "text": [
      "(1140, 15)\n",
      "(15, 2926)\n",
      "(15, 15)\n"
     ]
    }
   ],
   "source": [
    "print(U.shape)\n",
    "print(Vt.shape)\n",
    "sigma = np.diag(sigma)\n",
    "print(sigma.shape)"
   ]
  },
  {
   "cell_type": "code",
   "execution_count": 53,
   "metadata": {},
   "outputs": [
    {
     "data": {
      "text/plain": [
       "array([[-3.59736043e-03,  1.13569387e-03,  1.20882188e-02, ...,\n",
       "         1.92702938e-02,  5.12834501e-03,  2.51643553e-03],\n",
       "       [ 9.71055720e-05,  8.75622910e-05,  3.93275556e-03, ...,\n",
       "         4.06961661e-04, -4.19667479e-03, -6.14562512e-04],\n",
       "       [-2.52746201e-02,  4.07052544e-03, -1.36013462e-02, ...,\n",
       "         1.51481593e-02, -5.52722947e-03,  7.65220362e-03],\n",
       "       ...,\n",
       "       [ 2.07700031e-02,  1.02281302e-02, -5.38400117e-02, ...,\n",
       "         2.87303379e-02, -5.95440040e-02, -3.52231861e-03],\n",
       "       [-4.30766935e-02,  4.41158703e-03,  4.56109314e-02, ...,\n",
       "         2.21704728e-02,  5.25493080e-04,  1.05746293e-03],\n",
       "       [ 1.55442912e-02,  2.01216659e-02,  3.37166289e-01, ...,\n",
       "         2.20774211e-03,  8.01526416e-02,  1.87568874e-02]])"
      ]
     },
     "execution_count": 53,
     "metadata": {},
     "output_type": "execute_result"
    }
   ],
   "source": [
    "all_user_predicted_ratings = np.dot(np.dot(U, sigma), Vt) \n",
    "all_user_predicted_ratings"
   ]
  },
  {
   "cell_type": "code",
   "execution_count": 54,
   "metadata": {},
   "outputs": [],
   "source": [
    "all_user_predicted_ratings_norm = (all_user_predicted_ratings - all_user_predicted_ratings.min()) / (all_user_predicted_ratings.max() - all_user_predicted_ratings.min())"
   ]
  },
  {
   "cell_type": "code",
   "execution_count": 63,
   "metadata": {},
   "outputs": [
    {
     "data": {
      "text/html": [
       "<div>\n",
       "<style scoped>\n",
       "    .dataframe tbody tr th:only-of-type {\n",
       "        vertical-align: middle;\n",
       "    }\n",
       "\n",
       "    .dataframe tbody tr th {\n",
       "        vertical-align: top;\n",
       "    }\n",
       "\n",
       "    .dataframe thead th {\n",
       "        text-align: right;\n",
       "    }\n",
       "</style>\n",
       "<table border=\"1\" class=\"dataframe\">\n",
       "  <thead>\n",
       "    <tr style=\"text-align: right;\">\n",
       "      <th></th>\n",
       "      <th>-9223121837663643404</th>\n",
       "      <th>-9212075797126931087</th>\n",
       "      <th>-9207251133131336884</th>\n",
       "      <th>-9199575329909162940</th>\n",
       "      <th>-9196668942822132778</th>\n",
       "      <th>-9188188261933657343</th>\n",
       "      <th>-9172914609055320039</th>\n",
       "      <th>-9156344805277471150</th>\n",
       "      <th>-9120685872592674274</th>\n",
       "      <th>-9109785559521267180</th>\n",
       "      <th>...</th>\n",
       "      <th>9105269044962898535</th>\n",
       "      <th>9109075639526981934</th>\n",
       "      <th>9135582630122950040</th>\n",
       "      <th>9137372837662939523</th>\n",
       "      <th>9148269800512008413</th>\n",
       "      <th>9165571805999894845</th>\n",
       "      <th>9187866633451383747</th>\n",
       "      <th>9191849144618614467</th>\n",
       "      <th>9199170757466086545</th>\n",
       "      <th>9210530975708218054</th>\n",
       "    </tr>\n",
       "    <tr>\n",
       "      <th>contentId</th>\n",
       "      <th></th>\n",
       "      <th></th>\n",
       "      <th></th>\n",
       "      <th></th>\n",
       "      <th></th>\n",
       "      <th></th>\n",
       "      <th></th>\n",
       "      <th></th>\n",
       "      <th></th>\n",
       "      <th></th>\n",
       "      <th></th>\n",
       "      <th></th>\n",
       "      <th></th>\n",
       "      <th></th>\n",
       "      <th></th>\n",
       "      <th></th>\n",
       "      <th></th>\n",
       "      <th></th>\n",
       "      <th></th>\n",
       "      <th></th>\n",
       "      <th></th>\n",
       "    </tr>\n",
       "  </thead>\n",
       "  <tbody>\n",
       "    <tr>\n",
       "      <th>-9222795471790223670</th>\n",
       "      <td>0.028651</td>\n",
       "      <td>0.028666</td>\n",
       "      <td>0.028559</td>\n",
       "      <td>0.028876</td>\n",
       "      <td>0.028605</td>\n",
       "      <td>0.028643</td>\n",
       "      <td>0.028645</td>\n",
       "      <td>0.028856</td>\n",
       "      <td>0.029015</td>\n",
       "      <td>0.028546</td>\n",
       "      <td>...</td>\n",
       "      <td>0.028335</td>\n",
       "      <td>0.028279</td>\n",
       "      <td>0.028681</td>\n",
       "      <td>0.028676</td>\n",
       "      <td>0.028627</td>\n",
       "      <td>0.028629</td>\n",
       "      <td>0.028560</td>\n",
       "      <td>0.028754</td>\n",
       "      <td>0.028484</td>\n",
       "      <td>0.028732</td>\n",
       "    </tr>\n",
       "    <tr>\n",
       "      <th>-9216926795620865886</th>\n",
       "      <td>0.028671</td>\n",
       "      <td>0.028666</td>\n",
       "      <td>0.028683</td>\n",
       "      <td>0.028663</td>\n",
       "      <td>0.028674</td>\n",
       "      <td>0.028667</td>\n",
       "      <td>0.028670</td>\n",
       "      <td>0.028664</td>\n",
       "      <td>0.028711</td>\n",
       "      <td>0.028669</td>\n",
       "      <td>...</td>\n",
       "      <td>0.028678</td>\n",
       "      <td>0.028770</td>\n",
       "      <td>0.028670</td>\n",
       "      <td>0.028671</td>\n",
       "      <td>0.028816</td>\n",
       "      <td>0.028675</td>\n",
       "      <td>0.028675</td>\n",
       "      <td>0.028709</td>\n",
       "      <td>0.028685</td>\n",
       "      <td>0.028751</td>\n",
       "    </tr>\n",
       "    <tr>\n",
       "      <th>-9194572880052200111</th>\n",
       "      <td>0.028717</td>\n",
       "      <td>0.028683</td>\n",
       "      <td>0.028609</td>\n",
       "      <td>0.028640</td>\n",
       "      <td>0.028817</td>\n",
       "      <td>0.028669</td>\n",
       "      <td>0.028750</td>\n",
       "      <td>0.028525</td>\n",
       "      <td>0.028499</td>\n",
       "      <td>0.028759</td>\n",
       "      <td>...</td>\n",
       "      <td>0.028822</td>\n",
       "      <td>0.029648</td>\n",
       "      <td>0.028702</td>\n",
       "      <td>0.028706</td>\n",
       "      <td>0.031034</td>\n",
       "      <td>0.028789</td>\n",
       "      <td>0.028783</td>\n",
       "      <td>0.028439</td>\n",
       "      <td>0.028859</td>\n",
       "      <td>0.030090</td>\n",
       "    </tr>\n",
       "    <tr>\n",
       "      <th>-9192549002213406534</th>\n",
       "      <td>0.028786</td>\n",
       "      <td>0.028651</td>\n",
       "      <td>0.028557</td>\n",
       "      <td>0.028638</td>\n",
       "      <td>0.028715</td>\n",
       "      <td>0.028699</td>\n",
       "      <td>0.028675</td>\n",
       "      <td>0.029162</td>\n",
       "      <td>0.029613</td>\n",
       "      <td>0.028641</td>\n",
       "      <td>...</td>\n",
       "      <td>0.028784</td>\n",
       "      <td>0.030074</td>\n",
       "      <td>0.028694</td>\n",
       "      <td>0.028669</td>\n",
       "      <td>0.029157</td>\n",
       "      <td>0.028726</td>\n",
       "      <td>0.028711</td>\n",
       "      <td>0.029119</td>\n",
       "      <td>0.028718</td>\n",
       "      <td>0.029191</td>\n",
       "    </tr>\n",
       "    <tr>\n",
       "      <th>-9190737901804729417</th>\n",
       "      <td>0.028732</td>\n",
       "      <td>0.028661</td>\n",
       "      <td>0.028701</td>\n",
       "      <td>0.028674</td>\n",
       "      <td>0.028664</td>\n",
       "      <td>0.028666</td>\n",
       "      <td>0.028677</td>\n",
       "      <td>0.028674</td>\n",
       "      <td>0.028599</td>\n",
       "      <td>0.028727</td>\n",
       "      <td>...</td>\n",
       "      <td>0.028751</td>\n",
       "      <td>0.028696</td>\n",
       "      <td>0.028661</td>\n",
       "      <td>0.028669</td>\n",
       "      <td>0.028515</td>\n",
       "      <td>0.028671</td>\n",
       "      <td>0.028674</td>\n",
       "      <td>0.028689</td>\n",
       "      <td>0.028703</td>\n",
       "      <td>0.028646</td>\n",
       "    </tr>\n",
       "    <tr>\n",
       "      <th>-9189659052158407108</th>\n",
       "      <td>0.028714</td>\n",
       "      <td>0.028698</td>\n",
       "      <td>0.028710</td>\n",
       "      <td>0.028661</td>\n",
       "      <td>0.028694</td>\n",
       "      <td>0.028672</td>\n",
       "      <td>0.028675</td>\n",
       "      <td>0.028700</td>\n",
       "      <td>0.028836</td>\n",
       "      <td>0.028699</td>\n",
       "      <td>...</td>\n",
       "      <td>0.028739</td>\n",
       "      <td>0.029167</td>\n",
       "      <td>0.028674</td>\n",
       "      <td>0.028673</td>\n",
       "      <td>0.029542</td>\n",
       "      <td>0.028695</td>\n",
       "      <td>0.028695</td>\n",
       "      <td>0.028760</td>\n",
       "      <td>0.028732</td>\n",
       "      <td>0.029008</td>\n",
       "    </tr>\n",
       "    <tr>\n",
       "      <th>-9176143510534135851</th>\n",
       "      <td>0.028777</td>\n",
       "      <td>0.028688</td>\n",
       "      <td>0.028745</td>\n",
       "      <td>0.028667</td>\n",
       "      <td>0.028666</td>\n",
       "      <td>0.028670</td>\n",
       "      <td>0.028695</td>\n",
       "      <td>0.028693</td>\n",
       "      <td>0.029292</td>\n",
       "      <td>0.028784</td>\n",
       "      <td>...</td>\n",
       "      <td>0.028668</td>\n",
       "      <td>0.029171</td>\n",
       "      <td>0.028661</td>\n",
       "      <td>0.028673</td>\n",
       "      <td>0.028779</td>\n",
       "      <td>0.028671</td>\n",
       "      <td>0.028669</td>\n",
       "      <td>0.029068</td>\n",
       "      <td>0.028731</td>\n",
       "      <td>0.029012</td>\n",
       "    </tr>\n",
       "    <tr>\n",
       "      <th>-9172673334835262304</th>\n",
       "      <td>0.028671</td>\n",
       "      <td>0.028666</td>\n",
       "      <td>0.028670</td>\n",
       "      <td>0.028665</td>\n",
       "      <td>0.028668</td>\n",
       "      <td>0.028667</td>\n",
       "      <td>0.028669</td>\n",
       "      <td>0.028673</td>\n",
       "      <td>0.028684</td>\n",
       "      <td>0.028669</td>\n",
       "      <td>...</td>\n",
       "      <td>0.028675</td>\n",
       "      <td>0.028697</td>\n",
       "      <td>0.028667</td>\n",
       "      <td>0.028666</td>\n",
       "      <td>0.028680</td>\n",
       "      <td>0.028668</td>\n",
       "      <td>0.028669</td>\n",
       "      <td>0.028682</td>\n",
       "      <td>0.028673</td>\n",
       "      <td>0.028671</td>\n",
       "    </tr>\n",
       "    <tr>\n",
       "      <th>-9171475473795142532</th>\n",
       "      <td>0.028727</td>\n",
       "      <td>0.028665</td>\n",
       "      <td>0.028675</td>\n",
       "      <td>0.028669</td>\n",
       "      <td>0.028667</td>\n",
       "      <td>0.028668</td>\n",
       "      <td>0.028684</td>\n",
       "      <td>0.028656</td>\n",
       "      <td>0.028565</td>\n",
       "      <td>0.028734</td>\n",
       "      <td>...</td>\n",
       "      <td>0.028725</td>\n",
       "      <td>0.028683</td>\n",
       "      <td>0.028665</td>\n",
       "      <td>0.028672</td>\n",
       "      <td>0.028609</td>\n",
       "      <td>0.028665</td>\n",
       "      <td>0.028675</td>\n",
       "      <td>0.028618</td>\n",
       "      <td>0.028690</td>\n",
       "      <td>0.028632</td>\n",
       "    </tr>\n",
       "    <tr>\n",
       "      <th>-9166778629773133902</th>\n",
       "      <td>0.028676</td>\n",
       "      <td>0.028665</td>\n",
       "      <td>0.028655</td>\n",
       "      <td>0.028664</td>\n",
       "      <td>0.028673</td>\n",
       "      <td>0.028669</td>\n",
       "      <td>0.028666</td>\n",
       "      <td>0.028698</td>\n",
       "      <td>0.028827</td>\n",
       "      <td>0.028661</td>\n",
       "      <td>...</td>\n",
       "      <td>0.028676</td>\n",
       "      <td>0.028833</td>\n",
       "      <td>0.028669</td>\n",
       "      <td>0.028666</td>\n",
       "      <td>0.028751</td>\n",
       "      <td>0.028675</td>\n",
       "      <td>0.028673</td>\n",
       "      <td>0.028760</td>\n",
       "      <td>0.028672</td>\n",
       "      <td>0.028725</td>\n",
       "    </tr>\n",
       "  </tbody>\n",
       "</table>\n",
       "<p>10 rows × 1140 columns</p>\n",
       "</div>"
      ],
      "text/plain": [
       "                      -9223121837663643404  -9212075797126931087  \\\n",
       "contentId                                                          \n",
       "-9222795471790223670              0.028651              0.028666   \n",
       "-9216926795620865886              0.028671              0.028666   \n",
       "-9194572880052200111              0.028717              0.028683   \n",
       "-9192549002213406534              0.028786              0.028651   \n",
       "-9190737901804729417              0.028732              0.028661   \n",
       "-9189659052158407108              0.028714              0.028698   \n",
       "-9176143510534135851              0.028777              0.028688   \n",
       "-9172673334835262304              0.028671              0.028666   \n",
       "-9171475473795142532              0.028727              0.028665   \n",
       "-9166778629773133902              0.028676              0.028665   \n",
       "\n",
       "                      -9207251133131336884  -9199575329909162940  \\\n",
       "contentId                                                          \n",
       "-9222795471790223670              0.028559              0.028876   \n",
       "-9216926795620865886              0.028683              0.028663   \n",
       "-9194572880052200111              0.028609              0.028640   \n",
       "-9192549002213406534              0.028557              0.028638   \n",
       "-9190737901804729417              0.028701              0.028674   \n",
       "-9189659052158407108              0.028710              0.028661   \n",
       "-9176143510534135851              0.028745              0.028667   \n",
       "-9172673334835262304              0.028670              0.028665   \n",
       "-9171475473795142532              0.028675              0.028669   \n",
       "-9166778629773133902              0.028655              0.028664   \n",
       "\n",
       "                      -9196668942822132778  -9188188261933657343  \\\n",
       "contentId                                                          \n",
       "-9222795471790223670              0.028605              0.028643   \n",
       "-9216926795620865886              0.028674              0.028667   \n",
       "-9194572880052200111              0.028817              0.028669   \n",
       "-9192549002213406534              0.028715              0.028699   \n",
       "-9190737901804729417              0.028664              0.028666   \n",
       "-9189659052158407108              0.028694              0.028672   \n",
       "-9176143510534135851              0.028666              0.028670   \n",
       "-9172673334835262304              0.028668              0.028667   \n",
       "-9171475473795142532              0.028667              0.028668   \n",
       "-9166778629773133902              0.028673              0.028669   \n",
       "\n",
       "                      -9172914609055320039  -9156344805277471150  \\\n",
       "contentId                                                          \n",
       "-9222795471790223670              0.028645              0.028856   \n",
       "-9216926795620865886              0.028670              0.028664   \n",
       "-9194572880052200111              0.028750              0.028525   \n",
       "-9192549002213406534              0.028675              0.029162   \n",
       "-9190737901804729417              0.028677              0.028674   \n",
       "-9189659052158407108              0.028675              0.028700   \n",
       "-9176143510534135851              0.028695              0.028693   \n",
       "-9172673334835262304              0.028669              0.028673   \n",
       "-9171475473795142532              0.028684              0.028656   \n",
       "-9166778629773133902              0.028666              0.028698   \n",
       "\n",
       "                      -9120685872592674274  -9109785559521267180  ...  \\\n",
       "contentId                                                         ...   \n",
       "-9222795471790223670              0.029015              0.028546  ...   \n",
       "-9216926795620865886              0.028711              0.028669  ...   \n",
       "-9194572880052200111              0.028499              0.028759  ...   \n",
       "-9192549002213406534              0.029613              0.028641  ...   \n",
       "-9190737901804729417              0.028599              0.028727  ...   \n",
       "-9189659052158407108              0.028836              0.028699  ...   \n",
       "-9176143510534135851              0.029292              0.028784  ...   \n",
       "-9172673334835262304              0.028684              0.028669  ...   \n",
       "-9171475473795142532              0.028565              0.028734  ...   \n",
       "-9166778629773133902              0.028827              0.028661  ...   \n",
       "\n",
       "                       9105269044962898535   9109075639526981934  \\\n",
       "contentId                                                          \n",
       "-9222795471790223670              0.028335              0.028279   \n",
       "-9216926795620865886              0.028678              0.028770   \n",
       "-9194572880052200111              0.028822              0.029648   \n",
       "-9192549002213406534              0.028784              0.030074   \n",
       "-9190737901804729417              0.028751              0.028696   \n",
       "-9189659052158407108              0.028739              0.029167   \n",
       "-9176143510534135851              0.028668              0.029171   \n",
       "-9172673334835262304              0.028675              0.028697   \n",
       "-9171475473795142532              0.028725              0.028683   \n",
       "-9166778629773133902              0.028676              0.028833   \n",
       "\n",
       "                       9135582630122950040   9137372837662939523  \\\n",
       "contentId                                                          \n",
       "-9222795471790223670              0.028681              0.028676   \n",
       "-9216926795620865886              0.028670              0.028671   \n",
       "-9194572880052200111              0.028702              0.028706   \n",
       "-9192549002213406534              0.028694              0.028669   \n",
       "-9190737901804729417              0.028661              0.028669   \n",
       "-9189659052158407108              0.028674              0.028673   \n",
       "-9176143510534135851              0.028661              0.028673   \n",
       "-9172673334835262304              0.028667              0.028666   \n",
       "-9171475473795142532              0.028665              0.028672   \n",
       "-9166778629773133902              0.028669              0.028666   \n",
       "\n",
       "                       9148269800512008413   9165571805999894845  \\\n",
       "contentId                                                          \n",
       "-9222795471790223670              0.028627              0.028629   \n",
       "-9216926795620865886              0.028816              0.028675   \n",
       "-9194572880052200111              0.031034              0.028789   \n",
       "-9192549002213406534              0.029157              0.028726   \n",
       "-9190737901804729417              0.028515              0.028671   \n",
       "-9189659052158407108              0.029542              0.028695   \n",
       "-9176143510534135851              0.028779              0.028671   \n",
       "-9172673334835262304              0.028680              0.028668   \n",
       "-9171475473795142532              0.028609              0.028665   \n",
       "-9166778629773133902              0.028751              0.028675   \n",
       "\n",
       "                       9187866633451383747   9191849144618614467  \\\n",
       "contentId                                                          \n",
       "-9222795471790223670              0.028560              0.028754   \n",
       "-9216926795620865886              0.028675              0.028709   \n",
       "-9194572880052200111              0.028783              0.028439   \n",
       "-9192549002213406534              0.028711              0.029119   \n",
       "-9190737901804729417              0.028674              0.028689   \n",
       "-9189659052158407108              0.028695              0.028760   \n",
       "-9176143510534135851              0.028669              0.029068   \n",
       "-9172673334835262304              0.028669              0.028682   \n",
       "-9171475473795142532              0.028675              0.028618   \n",
       "-9166778629773133902              0.028673              0.028760   \n",
       "\n",
       "                       9199170757466086545   9210530975708218054  \n",
       "contentId                                                         \n",
       "-9222795471790223670              0.028484              0.028732  \n",
       "-9216926795620865886              0.028685              0.028751  \n",
       "-9194572880052200111              0.028859              0.030090  \n",
       "-9192549002213406534              0.028718              0.029191  \n",
       "-9190737901804729417              0.028703              0.028646  \n",
       "-9189659052158407108              0.028732              0.029008  \n",
       "-9176143510534135851              0.028731              0.029012  \n",
       "-9172673334835262304              0.028673              0.028671  \n",
       "-9171475473795142532              0.028690              0.028632  \n",
       "-9166778629773133902              0.028672              0.028725  \n",
       "\n",
       "[10 rows x 1140 columns]"
      ]
     },
     "execution_count": 63,
     "metadata": {},
     "output_type": "execute_result"
    }
   ],
   "source": [
    "#Converting the reconstructed matrix back to a Pandas dataframe\n",
    "cf_preds_df = pd.DataFrame(all_user_predicted_ratings_norm, columns = df_users_items_pivot_matrix.columns, index=users_ids).transpose()\n",
    "cf_preds_df.head(10)"
   ]
  },
  {
   "cell_type": "code",
   "execution_count": 56,
   "metadata": {},
   "outputs": [
    {
     "data": {
      "text/plain": [
       "1140"
      ]
     },
     "execution_count": 56,
     "metadata": {},
     "output_type": "execute_result"
    }
   ],
   "source": [
    "len(cf_preds_df.columns)"
   ]
  },
  {
   "cell_type": "code",
   "execution_count": 57,
   "metadata": {},
   "outputs": [],
   "source": [
    "articles_df = df_shared_articles[df_shared_articles['eventType'] == 'CONTENT SHARED']\n"
   ]
  },
  {
   "cell_type": "code",
   "execution_count": 58,
   "metadata": {},
   "outputs": [],
   "source": [
    "class CFRecommender:\n",
    "    \n",
    "    MODEL_NAME = 'Collaborative Filtering'\n",
    "    \n",
    "    def __init__(self, cf_predictions_df, items_df=None):\n",
    "        self.cf_predictions_df = cf_predictions_df\n",
    "        self.items_df = items_df\n",
    "        \n",
    "    def get_model_name(self):\n",
    "        return self.MODEL_NAME\n",
    "        \n",
    "    def recommend_items(self, user_id, items_to_ignore=[], topn=10, verbose=False):\n",
    "        # Get and sort the user's predictions\n",
    "        sorted_user_predictions = self.cf_predictions_df[user_id].sort_values(ascending=False) \\\n",
    "                                    .reset_index().rename(columns={user_id: 'recStrength'})\n",
    "\n",
    "        # Recommend the highest predicted rating movies that the user hasn't seen yet.\n",
    "        recommendations_df = sorted_user_predictions[~sorted_user_predictions['contentId'].isin(items_to_ignore)] \\\n",
    "                               .sort_values('recStrength', ascending = False) \\\n",
    "                               .head(topn)\n",
    "\n",
    "        if verbose:\n",
    "            if self.items_df is None:\n",
    "                raise Exception('\"items_df\" is required in verbose mode')\n",
    "\n",
    "            recommendations_df = recommendations_df.merge(self.items_df, how = 'left', \n",
    "                                                          left_on = 'contentId', \n",
    "                                                          right_on = 'contentId')[['recStrength', 'contentId', 'title', 'url', 'lang']]\n",
    "\n",
    "\n",
    "        return recommendations_df\n",
    "    \n",
    "cf_recommender_model = CFRecommender(cf_preds_df, articles_df)"
   ]
  },
  {
   "cell_type": "code",
   "execution_count": null,
   "metadata": {},
   "outputs": [],
   "source": []
  },
  {
   "cell_type": "code",
   "execution_count": null,
   "metadata": {},
   "outputs": [],
   "source": []
  },
  {
   "cell_type": "code",
   "execution_count": 70,
   "metadata": {},
   "outputs": [
    {
     "data": {
      "text/plain": [
       "NearestNeighbors(algorithm='brute', leaf_size=30, metric='cosine',\n",
       "                 metric_params=None, n_jobs=None, n_neighbors=5, p=2,\n",
       "                 radius=1.0)"
      ]
     },
     "execution_count": 70,
     "metadata": {},
     "output_type": "execute_result"
    }
   ],
   "source": [
    "from scipy.sparse import csr_matrix\n",
    "\n",
    "movie_features_df_matrix = csr_matrix(df_users_items_pivot_matrix.values)\n",
    "\n",
    "from sklearn.neighbors import NearestNeighbors\n",
    "\n",
    "\n",
    "model_knn = NearestNeighbors(metric = 'cosine', algorithm = 'brute')\n",
    "model_knn.fit(movie_features_df_matrix)"
   ]
  },
  {
   "cell_type": "code",
   "execution_count": 75,
   "metadata": {},
   "outputs": [
    {
     "name": "stdout",
     "output_type": "stream",
     "text": [
      "23\n"
     ]
    }
   ],
   "source": [
    "query_index = np.random.choice(df_users_items_pivot_matrix.shape[0])\n",
    "print(query_index)\n",
    "distances, indices = model_knn.kneighbors(df_users_items_pivot_matrix.iloc[query_index,:].values.reshape(1, -1), n_neighbors = 6)"
   ]
  },
  {
   "cell_type": "code",
   "execution_count": 76,
   "metadata": {},
   "outputs": [
    {
     "name": "stdout",
     "output_type": "stream",
     "text": [
      "Recommendations for -8830250090736356260:\n",
      "\n",
      "1: -5355462854406417157, with distance of 0.6304921782406493:\n",
      "2: 7131993520591621461, with distance of 0.6322752795949174:\n",
      "3: -6786856227257648356, with distance of 0.6433779735083291:\n",
      "4: 753551422329466662, with distance of 0.6844726285662466:\n",
      "5: -6188912942004687815, with distance of 0.6923495763275456:\n"
     ]
    }
   ],
   "source": [
    "for i in range(0, len(distances.flatten())):\n",
    "    if i == 0:\n",
    "        print('Recommendations for {0}:\\n'.format(df_users_items_pivot_matrix.index[query_index]))\n",
    "    else:\n",
    "        print('{0}: {1}, with distance of {2}:'.format(i, df_users_items_pivot_matrix.index[indices.flatten()[i]], distances.flatten()[i]))"
   ]
  },
  {
   "cell_type": "code",
   "execution_count": 80,
   "metadata": {},
   "outputs": [
    {
     "ename": "KeyError",
     "evalue": "'personId'",
     "output_type": "error",
     "traceback": [
      "\u001b[1;31m---------------------------------------------------------------------------\u001b[0m",
      "\u001b[1;31mKeyError\u001b[0m                                  Traceback (most recent call last)",
      "\u001b[1;32m~\\AppData\\Local\\Programs\\Python\\Python36\\lib\\site-packages\\pandas\\core\\indexes\\base.py\u001b[0m in \u001b[0;36mget_loc\u001b[1;34m(self, key, method, tolerance)\u001b[0m\n\u001b[0;32m   2889\u001b[0m             \u001b[1;32mtry\u001b[0m\u001b[1;33m:\u001b[0m\u001b[1;33m\u001b[0m\u001b[1;33m\u001b[0m\u001b[0m\n\u001b[1;32m-> 2890\u001b[1;33m                 \u001b[1;32mreturn\u001b[0m \u001b[0mself\u001b[0m\u001b[1;33m.\u001b[0m\u001b[0m_engine\u001b[0m\u001b[1;33m.\u001b[0m\u001b[0mget_loc\u001b[0m\u001b[1;33m(\u001b[0m\u001b[0mkey\u001b[0m\u001b[1;33m)\u001b[0m\u001b[1;33m\u001b[0m\u001b[1;33m\u001b[0m\u001b[0m\n\u001b[0m\u001b[0;32m   2891\u001b[0m             \u001b[1;32mexcept\u001b[0m \u001b[0mKeyError\u001b[0m\u001b[1;33m:\u001b[0m\u001b[1;33m\u001b[0m\u001b[1;33m\u001b[0m\u001b[0m\n",
      "\u001b[1;32mpandas\\_libs\\index.pyx\u001b[0m in \u001b[0;36mpandas._libs.index.IndexEngine.get_loc\u001b[1;34m()\u001b[0m\n",
      "\u001b[1;32mpandas\\_libs\\index.pyx\u001b[0m in \u001b[0;36mpandas._libs.index.IndexEngine.get_loc\u001b[1;34m()\u001b[0m\n",
      "\u001b[1;32mpandas\\_libs\\hashtable_class_helper.pxi\u001b[0m in \u001b[0;36mpandas._libs.hashtable.PyObjectHashTable.get_item\u001b[1;34m()\u001b[0m\n",
      "\u001b[1;32mpandas\\_libs\\hashtable_class_helper.pxi\u001b[0m in \u001b[0;36mpandas._libs.hashtable.PyObjectHashTable.get_item\u001b[1;34m()\u001b[0m\n",
      "\u001b[1;31mKeyError\u001b[0m: 'personId'",
      "\nDuring handling of the above exception, another exception occurred:\n",
      "\u001b[1;31mKeyError\u001b[0m                                  Traceback (most recent call last)",
      "\u001b[1;32m<ipython-input-80-376dc53be046>\u001b[0m in \u001b[0;36m<module>\u001b[1;34m\u001b[0m\n\u001b[1;32m----> 1\u001b[1;33m \u001b[0mprint\u001b[0m\u001b[1;33m(\u001b[0m\u001b[0mdf_shared_articles\u001b[0m\u001b[1;33m[\u001b[0m\u001b[0mdf_shared_articles\u001b[0m\u001b[1;33m[\u001b[0m\u001b[1;34m\"personId\"\u001b[0m\u001b[1;33m]\u001b[0m \u001b[1;33m==\u001b[0m \u001b[1;36m7131993520591621461\u001b[0m\u001b[1;33m]\u001b[0m\u001b[1;33m)\u001b[0m\u001b[1;33m\u001b[0m\u001b[1;33m\u001b[0m\u001b[0m\n\u001b[0m",
      "\u001b[1;32m~\\AppData\\Local\\Programs\\Python\\Python36\\lib\\site-packages\\pandas\\core\\frame.py\u001b[0m in \u001b[0;36m__getitem__\u001b[1;34m(self, key)\u001b[0m\n\u001b[0;32m   2973\u001b[0m             \u001b[1;32mif\u001b[0m \u001b[0mself\u001b[0m\u001b[1;33m.\u001b[0m\u001b[0mcolumns\u001b[0m\u001b[1;33m.\u001b[0m\u001b[0mnlevels\u001b[0m \u001b[1;33m>\u001b[0m \u001b[1;36m1\u001b[0m\u001b[1;33m:\u001b[0m\u001b[1;33m\u001b[0m\u001b[1;33m\u001b[0m\u001b[0m\n\u001b[0;32m   2974\u001b[0m                 \u001b[1;32mreturn\u001b[0m \u001b[0mself\u001b[0m\u001b[1;33m.\u001b[0m\u001b[0m_getitem_multilevel\u001b[0m\u001b[1;33m(\u001b[0m\u001b[0mkey\u001b[0m\u001b[1;33m)\u001b[0m\u001b[1;33m\u001b[0m\u001b[1;33m\u001b[0m\u001b[0m\n\u001b[1;32m-> 2975\u001b[1;33m             \u001b[0mindexer\u001b[0m \u001b[1;33m=\u001b[0m \u001b[0mself\u001b[0m\u001b[1;33m.\u001b[0m\u001b[0mcolumns\u001b[0m\u001b[1;33m.\u001b[0m\u001b[0mget_loc\u001b[0m\u001b[1;33m(\u001b[0m\u001b[0mkey\u001b[0m\u001b[1;33m)\u001b[0m\u001b[1;33m\u001b[0m\u001b[1;33m\u001b[0m\u001b[0m\n\u001b[0m\u001b[0;32m   2976\u001b[0m             \u001b[1;32mif\u001b[0m \u001b[0mis_integer\u001b[0m\u001b[1;33m(\u001b[0m\u001b[0mindexer\u001b[0m\u001b[1;33m)\u001b[0m\u001b[1;33m:\u001b[0m\u001b[1;33m\u001b[0m\u001b[1;33m\u001b[0m\u001b[0m\n\u001b[0;32m   2977\u001b[0m                 \u001b[0mindexer\u001b[0m \u001b[1;33m=\u001b[0m \u001b[1;33m[\u001b[0m\u001b[0mindexer\u001b[0m\u001b[1;33m]\u001b[0m\u001b[1;33m\u001b[0m\u001b[1;33m\u001b[0m\u001b[0m\n",
      "\u001b[1;32m~\\AppData\\Local\\Programs\\Python\\Python36\\lib\\site-packages\\pandas\\core\\indexes\\base.py\u001b[0m in \u001b[0;36mget_loc\u001b[1;34m(self, key, method, tolerance)\u001b[0m\n\u001b[0;32m   2890\u001b[0m                 \u001b[1;32mreturn\u001b[0m \u001b[0mself\u001b[0m\u001b[1;33m.\u001b[0m\u001b[0m_engine\u001b[0m\u001b[1;33m.\u001b[0m\u001b[0mget_loc\u001b[0m\u001b[1;33m(\u001b[0m\u001b[0mkey\u001b[0m\u001b[1;33m)\u001b[0m\u001b[1;33m\u001b[0m\u001b[1;33m\u001b[0m\u001b[0m\n\u001b[0;32m   2891\u001b[0m             \u001b[1;32mexcept\u001b[0m \u001b[0mKeyError\u001b[0m\u001b[1;33m:\u001b[0m\u001b[1;33m\u001b[0m\u001b[1;33m\u001b[0m\u001b[0m\n\u001b[1;32m-> 2892\u001b[1;33m                 \u001b[1;32mreturn\u001b[0m \u001b[0mself\u001b[0m\u001b[1;33m.\u001b[0m\u001b[0m_engine\u001b[0m\u001b[1;33m.\u001b[0m\u001b[0mget_loc\u001b[0m\u001b[1;33m(\u001b[0m\u001b[0mself\u001b[0m\u001b[1;33m.\u001b[0m\u001b[0m_maybe_cast_indexer\u001b[0m\u001b[1;33m(\u001b[0m\u001b[0mkey\u001b[0m\u001b[1;33m)\u001b[0m\u001b[1;33m)\u001b[0m\u001b[1;33m\u001b[0m\u001b[1;33m\u001b[0m\u001b[0m\n\u001b[0m\u001b[0;32m   2893\u001b[0m         \u001b[0mindexer\u001b[0m \u001b[1;33m=\u001b[0m \u001b[0mself\u001b[0m\u001b[1;33m.\u001b[0m\u001b[0mget_indexer\u001b[0m\u001b[1;33m(\u001b[0m\u001b[1;33m[\u001b[0m\u001b[0mkey\u001b[0m\u001b[1;33m]\u001b[0m\u001b[1;33m,\u001b[0m \u001b[0mmethod\u001b[0m\u001b[1;33m=\u001b[0m\u001b[0mmethod\u001b[0m\u001b[1;33m,\u001b[0m \u001b[0mtolerance\u001b[0m\u001b[1;33m=\u001b[0m\u001b[0mtolerance\u001b[0m\u001b[1;33m)\u001b[0m\u001b[1;33m\u001b[0m\u001b[1;33m\u001b[0m\u001b[0m\n\u001b[0;32m   2894\u001b[0m         \u001b[1;32mif\u001b[0m \u001b[0mindexer\u001b[0m\u001b[1;33m.\u001b[0m\u001b[0mndim\u001b[0m \u001b[1;33m>\u001b[0m \u001b[1;36m1\u001b[0m \u001b[1;32mor\u001b[0m \u001b[0mindexer\u001b[0m\u001b[1;33m.\u001b[0m\u001b[0msize\u001b[0m \u001b[1;33m>\u001b[0m \u001b[1;36m1\u001b[0m\u001b[1;33m:\u001b[0m\u001b[1;33m\u001b[0m\u001b[1;33m\u001b[0m\u001b[0m\n",
      "\u001b[1;32mpandas\\_libs\\index.pyx\u001b[0m in \u001b[0;36mpandas._libs.index.IndexEngine.get_loc\u001b[1;34m()\u001b[0m\n",
      "\u001b[1;32mpandas\\_libs\\index.pyx\u001b[0m in \u001b[0;36mpandas._libs.index.IndexEngine.get_loc\u001b[1;34m()\u001b[0m\n",
      "\u001b[1;32mpandas\\_libs\\hashtable_class_helper.pxi\u001b[0m in \u001b[0;36mpandas._libs.hashtable.PyObjectHashTable.get_item\u001b[1;34m()\u001b[0m\n",
      "\u001b[1;32mpandas\\_libs\\hashtable_class_helper.pxi\u001b[0m in \u001b[0;36mpandas._libs.hashtable.PyObjectHashTable.get_item\u001b[1;34m()\u001b[0m\n",
      "\u001b[1;31mKeyError\u001b[0m: 'personId'"
     ]
    }
   ],
   "source": [
    "print(df_shared_articles[df_shared_articles[\"personId\"] == 7131993520591621461])"
   ]
  },
  {
   "cell_type": "code",
   "execution_count": null,
   "metadata": {},
   "outputs": [],
   "source": []
  },
  {
   "cell_type": "code",
   "execution_count": null,
   "metadata": {},
   "outputs": [],
   "source": []
  },
  {
   "cell_type": "code",
   "execution_count": null,
   "metadata": {},
   "outputs": [],
   "source": []
  },
  {
   "cell_type": "code",
   "execution_count": null,
   "metadata": {},
   "outputs": [],
   "source": []
  },
  {
   "cell_type": "code",
   "execution_count": null,
   "metadata": {},
   "outputs": [],
   "source": []
  },
  {
   "cell_type": "code",
   "execution_count": null,
   "metadata": {},
   "outputs": [],
   "source": []
  },
  {
   "cell_type": "code",
   "execution_count": null,
   "metadata": {},
   "outputs": [],
   "source": []
  },
  {
   "cell_type": "code",
   "execution_count": null,
   "metadata": {},
   "outputs": [],
   "source": []
  },
  {
   "cell_type": "code",
   "execution_count": null,
   "metadata": {},
   "outputs": [],
   "source": []
  },
  {
   "cell_type": "code",
   "execution_count": null,
   "metadata": {},
   "outputs": [],
   "source": []
  },
  {
   "cell_type": "code",
   "execution_count": null,
   "metadata": {},
   "outputs": [],
   "source": []
  }
 ],
 "metadata": {
  "kernelspec": {
   "display_name": "Python3.6Test",
   "language": "python",
   "name": "python3.6test"
  },
  "language_info": {
   "codemirror_mode": {
    "name": "ipython",
    "version": 3
   },
   "file_extension": ".py",
   "mimetype": "text/x-python",
   "name": "python",
   "nbconvert_exporter": "python",
   "pygments_lexer": "ipython3",
   "version": "3.6.7"
  }
 },
 "nbformat": 4,
 "nbformat_minor": 2
}
